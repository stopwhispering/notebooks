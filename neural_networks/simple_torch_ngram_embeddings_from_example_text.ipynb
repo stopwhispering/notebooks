{
 "cells": [
  {
   "cell_type": "markdown",
   "id": "1200eb14-cb06-4900-8056-5d915124087a",
   "metadata": {
    "editable": true,
    "slideshow": {
     "slide_type": ""
    },
    "tags": []
   },
   "source": [
    "# PyTorch🔥Embeddings Example"
   ]
  },
  {
   "cell_type": "markdown",
   "id": "b47fe054-4cb3-41db-9a53-11c938da46cf",
   "metadata": {},
   "source": [
    "Subject: Building a model to create embeddings for the dataset's words representing their near closeness to each other. Training with two subsequent words as train and the subsequent third word as target (N-GRAMS).\n",
    "\n",
    "Data: Static string (just as an example)\n",
    "\n",
    "Procedure:\n",
    "- Tokenizing simply via '...'.split()\n",
    "- Creating contexts and targets from three words each: (0, 1) with (2) as target\n",
    "- Creating a vocabulary as simple set of distinct words\n",
    "- Tensorizing contexts and targets\n",
    "- Word2vec-like CBOW model with torch.nn.module, torch.nn.Embedding, torch.nn.Linear,  and torch.nn.functional.log_softmax\n",
    "- Training with torch.nn.NLLLoss, and torch.optim.SGD\n",
    "- Evaluation by finding some nearest words and playing with word vectors\n",
    "- Disappointing results (to be expected with that simple input data)\n",
    "\n",
    "Sources used:\n",
    "- https://pytorch.org/tutorials/beginner/nlp/word_embeddings_tutorial.html"
   ]
  },
  {
   "cell_type": "code",
   "execution_count": 11,
   "id": "8cc0b550-8236-4a51-9aa2-e0543bf9700e",
   "metadata": {},
   "outputs": [
    {
     "data": {
      "text/plain": [
       "<torch._C.Generator at 0x17dca203930>"
      ]
     },
     "execution_count": 11,
     "metadata": {},
     "output_type": "execute_result"
    }
   ],
   "source": [
    "import heapq\n",
    "\n",
    "import torch\n",
    "import torch.nn as nn\n",
    "import torch.nn.functional as F\n",
    "import torch.optim as optim\n",
    "import torchtext\n",
    "\n",
    "torch.manual_seed(1)"
   ]
  },
  {
   "cell_type": "code",
   "execution_count": 2,
   "id": "9ccacd23-b728-4123-a3d0-294436a7619f",
   "metadata": {},
   "outputs": [],
   "source": [
    "CONTEXT_SIZE = 2\n",
    "EMBEDDING_DIM = 10\n",
    "LEARNING_RATE = 0.001\n",
    "N_EPOCHS = 10"
   ]
  },
  {
   "cell_type": "code",
   "execution_count": 3,
   "id": "f6d83aa6-afd8-4b6c-b94a-247039e7611d",
   "metadata": {},
   "outputs": [],
   "source": [
    "# We will use Shakespeare Sonnet 2\n",
    "test_sentence = \"\"\"When forty winters shall besiege thy brow,\n",
    "And dig deep trenches in thy beauty's field,\n",
    "Thy youth's proud livery so gazed on now,\n",
    "Will be a totter'd weed of small worth held:\n",
    "Then being asked, where all thy beauty lies,\n",
    "Where all the treasure of thy lusty days;\n",
    "To say, within thine own deep sunken eyes,\n",
    "Were an all-eating shame, and thriftless praise.\n",
    "How much more praise deserv'd thy beauty's use,\n",
    "If thou couldst answer 'This fair child of mine\n",
    "Shall sum my count, and make my old excuse,'\n",
    "Proving his beauty by succession thine!\n",
    "This were to be new made when thou art old,\n",
    "And see thy blood warm when thou feel'st it cold.\"\"\".split()"
   ]
  },
  {
   "cell_type": "code",
   "execution_count": 4,
   "id": "6c625263-d83d-428b-bbe8-e5b408767f83",
   "metadata": {},
   "outputs": [
    {
     "name": "stdout",
     "output_type": "stream",
     "text": [
      "[(['When', 'forty'], 'winters'), (['forty', 'winters'], 'shall'), (['winters', 'shall'], 'besiege')]\n"
     ]
    }
   ],
   "source": [
    "# we should tokenize the input, but we will ignore that for now\n",
    "# build a list of tuples.\n",
    "ngrams: list[tuple[list[str], str]] = []\n",
    "for i in range(CONTEXT_SIZE, len(test_sentence)):  # from 2 to 114, i.e. skipping first 0 and 1\n",
    "    context_words = test_sentence[i-CONTEXT_SIZE:i]\n",
    "    target_word = test_sentence[i]\n",
    "    ngrams.append((context_words, target_word))\n",
    "\n",
    "# Print the first 3, just so you can see what they look like.\n",
    "print(ngrams[:3])"
   ]
  },
  {
   "cell_type": "markdown",
   "id": "93db23e5-09e8-4a8c-8752-a32b00aa8703",
   "metadata": {},
   "source": [
    "## Build Vocabulary"
   ]
  },
  {
   "cell_type": "code",
   "execution_count": 5,
   "id": "5421e078-a4ad-4a65-9823-66eb9451702b",
   "metadata": {},
   "outputs": [
    {
     "name": "stdout",
     "output_type": "stream",
     "text": [
      "{'child': 0, 'answer': 1, 'beauty': 2, 'To': 3, 'If': 4, 'old,': 5, 'now,': 6, 'And': 7, 'see': 8, 'it': 9, 'count,': 10, 'and': 11, 'more': 12, 'blood': 13, 'art': 14, 'Will': 15, 'worth': 16, 'be': 17, \"deserv'd\": 18, 'Where': 19, 'held:': 20, 'his': 21, 'my': 22, 'say,': 23, 'were': 24, 'a': 25, 'small': 26, 'dig': 27, 'warm': 28, 'where': 29, 'This': 30, \"youth's\": 31, 'forty': 32, 'being': 33, \"excuse,'\": 34, \"totter'd\": 35, \"'This\": 36, 'Shall': 37, 'own': 38, \"beauty's\": 39, 'of': 40, 'sum': 41, 'sunken': 42, 'lusty': 43, 'couldst': 44, 'Proving': 45, 'on': 46, 'much': 47, \"feel'st\": 48, 'Then': 49, 'lies,': 50, 'make': 51, 'the': 52, 'asked,': 53, 'so': 54, 'winters': 55, 'in': 56, 'livery': 57, 'all': 58, 'shame,': 59, 'shall': 60, 'use,': 61, 'thy': 62, 'thriftless': 63, 'eyes,': 64, 'Were': 65, 'field,': 66, 'made': 67, 'within': 68, 'old': 69, 'by': 70, 'treasure': 71, 'How': 72, 'Thy': 73, 'succession': 74, 'praise.': 75, 'fair': 76, 'When': 77, 'all-eating': 78, 'besiege': 79, 'when': 80, 'cold.': 81, 'deep': 82, 'weed': 83, 'days;': 84, 'trenches': 85, 'proud': 86, 'mine': 87, 'thine!': 88, 'thine': 89, 'brow,': 90, 'praise': 91, 'to': 92, 'gazed': 93, 'new': 94, 'an': 95, 'thou': 96}\n"
     ]
    }
   ],
   "source": [
    "vocab = set(test_sentence)\n",
    "word_to_ix = {word: i for i, word in enumerate(vocab)}\n",
    "print(word_to_ix)\n",
    "\n",
    "# for manual evaluation later \n",
    "ix_to_word = [(i, word) for word, i in word_to_ix.items()]"
   ]
  },
  {
   "cell_type": "markdown",
   "id": "b0fa2dca-7c1a-438f-b9c1-ed23d0c86f26",
   "metadata": {},
   "source": [
    "## Model"
   ]
  },
  {
   "cell_type": "code",
   "execution_count": 6,
   "id": "2da0c2e9-fb60-4371-a572-e92a138d19a1",
   "metadata": {},
   "outputs": [],
   "source": [
    "class NGramLanguageModeler(nn.Module):\n",
    "\n",
    "    def __init__(self, \n",
    "                 vocab_size: int, \n",
    "                 embedding_dim: int, \n",
    "                 context_size: int\n",
    "                ):\n",
    "        super(NGramLanguageModeler, self).__init__()\n",
    "        self.embeddings = nn.Embedding(num_embeddings=vocab_size, \n",
    "                                       embedding_dim=embedding_dim\n",
    "                                      )\n",
    "        self.linear1 = nn.Linear(in_features=context_size * embedding_dim, \n",
    "                                 out_features=128)\n",
    "        self.linear2 = nn.Linear(in_features=128, \n",
    "                                 out_features=vocab_size)\n",
    "\n",
    "    def forward(self, inputs: torch.Tensor): # [2]\n",
    "        embeds = self.embeddings(inputs).view((1, -1))  # [1, 20]\n",
    "        out = F.relu(self.linear1(embeds))  # [1, 128]\n",
    "        out = self.linear2(out)  # [1, 97]\n",
    "        log_probs = F.log_softmax(out, dim=1)  # [1, 97]\n",
    "        return log_probs"
   ]
  },
  {
   "cell_type": "code",
   "execution_count": 7,
   "id": "da19fece-0d6e-464a-b165-22fecc5bc027",
   "metadata": {},
   "outputs": [],
   "source": [
    "losses = []\n",
    "loss_function = nn.NLLLoss()\n",
    "model = NGramLanguageModeler(vocab_size=len(vocab), \n",
    "                             embedding_dim=EMBEDDING_DIM, \n",
    "                             context_size=CONTEXT_SIZE)\n",
    "optimizer = optim.SGD(params=model.parameters(), \n",
    "                      lr=LEARNING_RATE)\n",
    "\n",
    "for epoch in range(N_EPOCHS):\n",
    "    total_loss = 0\n",
    "    \n",
    "    for context, target in ngrams:  # e.g. ['When', 'forty'] / 'winters'\n",
    "\n",
    "        # Step 1. Prepare the inputs to be passed to the model (i.e, turn the words\n",
    "        # into integer indices and wrap them in tensors)\n",
    "        context_idxs = torch.tensor([word_to_ix[w] for w in context],  # [2]  e.g.[28, 21]\n",
    "                                    dtype=torch.long)\n",
    "\n",
    "        target_idx = torch.tensor([word_to_ix[target]], # [1], e.g. [81]\n",
    "                                  dtype=torch.long)\n",
    "\n",
    "        # Step 2. Recall that torch *accumulates* gradients. Before passing in a\n",
    "        # new instance, you need to zero out the gradients from the old\n",
    "        # instance\n",
    "        model.zero_grad()\n",
    "\n",
    "        # Step 3. Run the forward pass, getting log probabilities over next\n",
    "        # words\n",
    "        log_probs = model(context_idxs)  # [1, 97], i.e. a probability for each target word \n",
    "\n",
    "        # Step 4. Compute your loss function. (Again, Torch wants the target\n",
    "        # word wrapped in a tensor)\n",
    "        loss = loss_function(log_probs,  # [], e.g. tensor(4.9681, grad_fn=<NllLossBackward0>)\n",
    "                             target_idx)\n",
    "\n",
    "        # Step 5. Do the backward pass and update the gradient\n",
    "        loss.backward()\n",
    "        optimizer.step()\n",
    "\n",
    "        # Get the Python number from a 1-element Tensor by calling tensor.item()\n",
    "        total_loss += loss.item()\n",
    "    losses.append(total_loss)"
   ]
  },
  {
   "cell_type": "code",
   "execution_count": 8,
   "id": "01abf2e4-88e7-4f0d-9682-375e04e8f6bd",
   "metadata": {},
   "outputs": [
    {
     "name": "stdout",
     "output_type": "stream",
     "text": [
      "[520.9909830093384, 518.5847978591919, 516.1935036182404, 513.8159439563751, 511.45058369636536, 509.09558868408203, 506.7505099773407, 504.4150788784027, 502.0893211364746, 499.7709891796112]\n",
      "tensor([ 0.8659,  0.2448, -0.6612,  0.8062,  1.1003, -0.1757, -2.2480, -1.4465,\n",
      "         0.0606, -0.6189], grad_fn=<SelectBackward0>)\n"
     ]
    }
   ],
   "source": [
    "print(losses)  # The loss decreased every iteration over the training data!\n",
    "\n",
    "# To get the embedding of a particular word, e.g. \"beauty\"\n",
    "print(model.embeddings.weight[word_to_ix[\"beauty\"]])"
   ]
  },
  {
   "cell_type": "markdown",
   "id": "72d9dc48-35ae-477b-a5c3-e51a33615f44",
   "metadata": {},
   "source": [
    "# Display the \"nearest\" and \"most distant\" words"
   ]
  },
  {
   "cell_type": "markdown",
   "id": "1c12d68d-8dec-4b96-aff5-d7833068aefa",
   "metadata": {},
   "source": [
    "Calculate the distance from each word to each other word"
   ]
  },
  {
   "cell_type": "code",
   "execution_count": 9,
   "id": "cffb581e-8569-405e-8424-5e924fd3e9c9",
   "metadata": {},
   "outputs": [],
   "source": [
    "embeddings = list(model.embeddings.parameters())[0].detach().cpu()  # [{vocab_size}, {EMBEDDIG_DIM}] = [97, 10]\n",
    "\n",
    "similarities: list[list[float]] = []  # will have length 97\n",
    "\n",
    "# for all 97 words...\n",
    "for word_index in range(len(embeddings)):\n",
    "\n",
    "    # get the word's embedding (in all 10 embedding dimensions)\n",
    "    x1 = embeddings[word_index].view(1,-1)  # [1, 10]\n",
    "    \n",
    "    similarities_to_current_word: list[float] = []  # will have length 97\n",
    "\n",
    "    # for all 97 words...\n",
    "    for other_word_index in range(len(embeddings)):\n",
    "\n",
    "        # get the other word's embedding (in all 10 embedding dimensions)\n",
    "        x2 = embeddings[other_word_index].view(1,-1)  # [1, 10]\n",
    "        \n",
    "        # compute similarity between the two words across all 10 embedding dimensions\n",
    "        similarity = torch.cosine_similarity(x1=x1,   # similarity: float, e.g. 0.18973809480667114\n",
    "                                             x2=x2).item()\n",
    "        similarities_to_current_word.append(similarity)\n",
    "    similarities.append(similarities_to_current_word)"
   ]
  },
  {
   "cell_type": "markdown",
   "id": "16b2e292-0f7c-4100-bcdf-c5eaee9acf78",
   "metadata": {},
   "source": [
    "Get the nearest and most distant word-to-word combinations"
   ]
  },
  {
   "cell_type": "code",
   "execution_count": 12,
   "id": "c16fd2fc-af70-4249-ab76-68a8b98772e7",
   "metadata": {},
   "outputs": [
    {
     "name": "stdout",
     "output_type": "stream",
     "text": [
      "[5622, 9078, 8629, 9109, 2275, 4291, 459, 6891, 4057, 7801]\n"
     ]
    }
   ],
   "source": [
    "N_LARGEST = 10\n",
    "\n",
    "flattened = [s for sim in similarities for s in sim]\n",
    "\n",
    "# get indices of n largest elements\n",
    "# the words themselves are always the most similar, thus we remove the first {voc_size}\n",
    "n_largest = set(heapq.nlargest(len(vocab) + N_LARGEST, flattened))\n",
    "n_largest_indices_ = []\n",
    "for value in n_largest:\n",
    "    # we can't use list.index() fn as multiple elements of flattened might have the same value\n",
    "    indices = [i for i in range(len(flattened)) if flattened[i] == value]\n",
    "    n_largest_indices_.extend(indices)\n",
    "    \n",
    "n_largest_indices = n_largest_indices_[len(vocab):]\n",
    "\n",
    "print(n_largest_indices)\n"
   ]
  },
  {
   "cell_type": "code",
   "execution_count": 13,
   "id": "a6273a20-1272-4370-a720-0afa0fbf1e48",
   "metadata": {},
   "outputs": [
    {
     "name": "stdout",
     "output_type": "stream",
     "text": [
      "(57, 'livery')\n",
      "(93, 'gazed')\n",
      "(93, 'gazed')\n",
      "(57, 'livery')\n",
      "(88, 'thine!')\n",
      "(93, 'gazed')\n",
      "(93, 'gazed')\n",
      "(88, 'thine!')\n",
      "(23, 'say,')\n",
      "(44, 'couldst')\n",
      "(44, 'couldst')\n",
      "(23, 'say,')\n",
      "(4, 'If')\n",
      "(71, 'treasure')\n",
      "(71, 'treasure')\n",
      "(4, 'If')\n",
      "(41, 'sum')\n",
      "(80, 'when')\n",
      "(80, 'when')\n",
      "(41, 'sum')\n"
     ]
    }
   ],
   "source": [
    "for index in n_largest_indices:\n",
    "    # unravel to get the index in the 2d list\n",
    "    row = index // 97\n",
    "    col = index % 97\n",
    "    assert flattened[index] == similarities[row][col]\n",
    "    print(ix_to_word[row])\n",
    "    print(ix_to_word[col])"
   ]
  },
  {
   "cell_type": "code",
   "execution_count": 14,
   "id": "4b130962-6f89-49be-b0be-af0bf7c0ed48",
   "metadata": {},
   "outputs": [
    {
     "name": "stdout",
     "output_type": "stream",
     "text": [
      "97\n"
     ]
    }
   ],
   "source": [
    "\n",
    "print(len(similarities))"
   ]
  },
  {
   "cell_type": "code",
   "execution_count": 15,
   "id": "d6d223af-e542-4162-8222-c2c2e6d439bf",
   "metadata": {},
   "outputs": [],
   "source": [
    "#import seaborn as sns\n",
    "#import matplotlib.pyplot as plt\n",
    "##fig = plt.figure()\n",
    "#sns.heatmap(final, annot=True)\n",
    "#display(fig)"
   ]
  },
  {
   "cell_type": "code",
   "execution_count": null,
   "id": "8be8a3c9-2436-4d36-966a-0f97733d0e7e",
   "metadata": {},
   "outputs": [],
   "source": []
  },
  {
   "cell_type": "code",
   "execution_count": null,
   "id": "c9b4b5e3-aa14-4947-b8dc-b39b756ac851",
   "metadata": {},
   "outputs": [],
   "source": []
  },
  {
   "cell_type": "code",
   "execution_count": null,
   "id": "046f1683-b4a2-40c0-812a-d647e22f9ab6",
   "metadata": {},
   "outputs": [],
   "source": []
  },
  {
   "cell_type": "code",
   "execution_count": null,
   "id": "28093207-876b-49a6-afad-d030e453c3db",
   "metadata": {},
   "outputs": [],
   "source": []
  },
  {
   "cell_type": "code",
   "execution_count": null,
   "id": "d7dcef33-fe60-40f3-89fb-798e1fb133e5",
   "metadata": {},
   "outputs": [],
   "source": []
  },
  {
   "cell_type": "code",
   "execution_count": null,
   "id": "5c5ed9ca-f133-4a76-b934-0a86907f8d93",
   "metadata": {},
   "outputs": [],
   "source": []
  },
  {
   "cell_type": "code",
   "execution_count": null,
   "id": "2a396531-537b-45c4-9ebe-8cb4a4496be3",
   "metadata": {},
   "outputs": [],
   "source": []
  },
  {
   "cell_type": "code",
   "execution_count": null,
   "id": "2c43f109-9a9a-4a32-aebc-0e43146f99e3",
   "metadata": {},
   "outputs": [],
   "source": []
  },
  {
   "cell_type": "code",
   "execution_count": null,
   "id": "74537a6e-3cbe-41e1-9726-c9fd88c58fde",
   "metadata": {},
   "outputs": [],
   "source": []
  },
  {
   "cell_type": "code",
   "execution_count": null,
   "id": "c9ae6962-8de6-42cc-b247-3065b8e1381f",
   "metadata": {},
   "outputs": [],
   "source": []
  },
  {
   "cell_type": "code",
   "execution_count": null,
   "id": "8c51688a-46ae-4c54-9a48-061540e484ca",
   "metadata": {},
   "outputs": [],
   "source": []
  },
  {
   "cell_type": "code",
   "execution_count": null,
   "id": "9a80736e-9b3d-4d84-ac19-1ff28cb75a42",
   "metadata": {},
   "outputs": [],
   "source": []
  },
  {
   "cell_type": "code",
   "execution_count": null,
   "id": "028bee7c-ed70-41f7-abc2-898d24896166",
   "metadata": {},
   "outputs": [],
   "source": []
  }
 ],
 "metadata": {
  "kernelspec": {
   "display_name": "Python 3 (ipykernel)",
   "language": "python",
   "name": "python3"
  },
  "language_info": {
   "codemirror_mode": {
    "name": "ipython",
    "version": 3
   },
   "file_extension": ".py",
   "mimetype": "text/x-python",
   "name": "python",
   "nbconvert_exporter": "python",
   "pygments_lexer": "ipython3",
   "version": "3.11.4"
  }
 },
 "nbformat": 4,
 "nbformat_minor": 5
}
