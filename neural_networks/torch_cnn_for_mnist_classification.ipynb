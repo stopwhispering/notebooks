{
 "cells": [
  {
   "cell_type": "markdown",
   "id": "63537188-e57e-40c1-a82c-844be261375c",
   "metadata": {
    "id": "63537188-e57e-40c1-a82c-844be261375c"
   },
   "source": [
    "# PyTorch🔥CNN for MNIST Digits Classification"
   ]
  },
  {
   "cell_type": "markdown",
   "id": "bc8f4523-57da-4bf5-8a6a-65f2b563eda3",
   "metadata": {
    "id": "bc8f4523-57da-4bf5-8a6a-65f2b563eda3"
   },
   "source": [
    "Subject: Building a CNN Classificator with PyTorch to classify hand-written digits.\n",
    "\n",
    "Data: MNIST (handwritten digits) via torchvision\n",
    "\n",
    "Procedure:\n",
    "- Previewing images from dataset with pyplot's imshow()\n",
    "- Neural network with torch.nn.module, torch.nn.Sequential, torch.nn.Conv2d, torch.nn.ReLU, torch.nn.MaxPool2d, torch.nn.Dropout, torch.nn.Linear, and torch.nn.init.xavier_uniform_\n",
    "- Visualizing model with torchviz' make_dot()\n",
    "- Training with nn.CrossEntropyLoss and torch.optim.Adam optimizer\n",
    "- Visualization Loss and Accuracy with pyplot\n",
    "- Visualization of the CNN Layers with pyplot's imshow()\n",
    "- Good results\n",
    "\n",
    "Others:\n",
    "- CUDA support\n",
    "\n",
    "Sources used:\n",
    "- todo"
   ]
  },
  {
   "cell_type": "markdown",
   "id": "5a8ae951-ac9f-49f6-95a9-5278bb3b1d7f",
   "metadata": {
    "id": "5a8ae951-ac9f-49f6-95a9-5278bb3b1d7f"
   },
   "source": [
    "## Bootstrap and Imports"
   ]
  },
  {
   "cell_type": "code",
   "execution_count": 1,
   "id": "a2707413-c690-47d9-8653-faaa579805ad",
   "metadata": {
    "colab": {
     "base_uri": "https://localhost:8080/"
    },
    "id": "a2707413-c690-47d9-8653-faaa579805ad",
    "outputId": "74f54c7f-58ec-40e7-d543-5cb2e74224aa"
   },
   "outputs": [
    {
     "name": "stdout",
     "output_type": "stream",
     "text": [
      "Running on cuda\n",
      "Requirement already satisfied: torchviz in /usr/local/lib/python3.10/dist-packages (0.0.2)\n",
      "Requirement already satisfied: torch in /usr/local/lib/python3.10/dist-packages (from torchviz) (2.0.1+cu118)\n",
      "Requirement already satisfied: graphviz in /usr/local/lib/python3.10/dist-packages (from torchviz) (0.20.1)\n",
      "Requirement already satisfied: filelock in /usr/local/lib/python3.10/dist-packages (from torch->torchviz) (3.12.2)\n",
      "Requirement already satisfied: typing-extensions in /usr/local/lib/python3.10/dist-packages (from torch->torchviz) (4.7.1)\n",
      "Requirement already satisfied: sympy in /usr/local/lib/python3.10/dist-packages (from torch->torchviz) (1.12)\n",
      "Requirement already satisfied: networkx in /usr/local/lib/python3.10/dist-packages (from torch->torchviz) (3.1)\n",
      "Requirement already satisfied: jinja2 in /usr/local/lib/python3.10/dist-packages (from torch->torchviz) (3.1.2)\n",
      "Requirement already satisfied: triton==2.0.0 in /usr/local/lib/python3.10/dist-packages (from torch->torchviz) (2.0.0)\n",
      "Requirement already satisfied: cmake in /usr/local/lib/python3.10/dist-packages (from triton==2.0.0->torch->torchviz) (3.27.2)\n",
      "Requirement already satisfied: lit in /usr/local/lib/python3.10/dist-packages (from triton==2.0.0->torch->torchviz) (16.0.6)\n",
      "Requirement already satisfied: MarkupSafe>=2.0 in /usr/local/lib/python3.10/dist-packages (from jinja2->torch->torchviz) (2.1.3)\n",
      "Requirement already satisfied: mpmath>=0.19 in /usr/local/lib/python3.10/dist-packages (from sympy->torch->torchviz) (1.3.0)\n"
     ]
    }
   ],
   "source": [
    "import torch\n",
    "DEVICE = torch.device(\"cuda\" if torch.cuda.is_available() else \"cpu\")\n",
    "print(f'Running on {DEVICE}')\n",
    "\n",
    "if IN_COLAB := 'google.colab' in str(get_ipython()):\n",
    "  NUM_EPOCHS = 100\n",
    "  !pip install torchviz\n",
    "\n",
    "else:\n",
    "  NUM_EPOCHS = 2"
   ]
  },
  {
   "cell_type": "code",
   "execution_count": 2,
   "id": "0d009e82-fd22-47ba-88db-405d5e6736f6",
   "metadata": {
    "colab": {
     "base_uri": "https://localhost:8080/"
    },
    "id": "0d009e82-fd22-47ba-88db-405d5e6736f6",
    "outputId": "99f83002-7c34-4024-9a98-a00db2a23b34"
   },
   "outputs": [
    {
     "data": {
      "text/plain": [
       "<torch._C.Generator at 0x790f3acbfbb0>"
      ]
     },
     "execution_count": 2,
     "metadata": {},
     "output_type": "execute_result"
    }
   ],
   "source": [
    "import random\n",
    "from tqdm.auto import tqdm\n",
    "import numpy as np\n",
    "from collections.abc import Callable\n",
    "\n",
    "from IPython.display import HTML, Image\n",
    "\n",
    "import time\n",
    "import matplotlib.animation as animation\n",
    "import matplotlib.pyplot as plt\n",
    "#%matplotlib inline\n",
    "\n",
    "import torch\n",
    "from torch import nn\n",
    "from torchvision import transforms\n",
    "from torchvision import datasets\n",
    "from torchvision.utils import make_grid\n",
    "from torchvision import utils\n",
    "from torch.utils.data import DataLoader\n",
    "from torch.nn.modules.loss import _Loss\n",
    "from torchviz import make_dot\n",
    "import torch.nn.functional as F\n",
    "\n",
    "my_seed = 123\n",
    "random.seed(my_seed)\n",
    "torch.manual_seed(my_seed)"
   ]
  },
  {
   "cell_type": "code",
   "execution_count": 3,
   "id": "e823683e-19fb-4181-ba3c-516740f15ef4",
   "metadata": {
    "id": "e823683e-19fb-4181-ba3c-516740f15ef4"
   },
   "outputs": [],
   "source": [
    "def get_describe_only_once() -> Callable:\n",
    "    already_described = set()\n",
    "\n",
    "    def _describe_only_once(tensor: torch.Tensor, name: str):\n",
    "        if name in already_described:\n",
    "            return\n",
    "        already_described.add(name)\n",
    "        if hasattr(tensor, 'shape'):\n",
    "            print(f\"{name} is a {type(tensor)} of size {tensor.shape} with dtype {tensor.dtype}.\")\n",
    "        else:\n",
    "            print(f\"{name} is a {type(tensor)} with content {tensor}.\")\n",
    "    return _describe_only_once\n",
    "\n",
    "describe_only_once = get_describe_only_once()"
   ]
  },
  {
   "cell_type": "markdown",
   "id": "df5a0ac4-29c4-4c40-8fee-33f53780f076",
   "metadata": {
    "id": "df5a0ac4-29c4-4c40-8fee-33f53780f076"
   },
   "source": [
    "## Dataset"
   ]
  },
  {
   "cell_type": "code",
   "execution_count": 4,
   "id": "f05a902e-b0b9-4490-a8cb-39cbc5517cf9",
   "metadata": {
    "id": "f05a902e-b0b9-4490-a8cb-39cbc5517cf9"
   },
   "outputs": [],
   "source": [
    "BATCH_SIZE = 128"
   ]
  },
  {
   "cell_type": "code",
   "execution_count": 5,
   "id": "461c5845-d19e-4e78-bacd-7f25c8a70870",
   "metadata": {
    "colab": {
     "base_uri": "https://localhost:8080/"
    },
    "id": "461c5845-d19e-4e78-bacd-7f25c8a70870",
    "outputId": "03a5f8b3-1456-4bb5-eedb-a4df7f045159"
   },
   "outputs": [
    {
     "name": "stdout",
     "output_type": "stream",
     "text": [
      "mean: 0.1307\n",
      "std: 0.3081\n"
     ]
    }
   ],
   "source": [
    "# get mean and std. dev for normalization; also put from range 0..1255 to 0..1\n",
    "dataset_tmp = datasets.MNIST('./data',\n",
    "                             download=True,\n",
    "                             train=True)  # dataset_tmp.data: [60000, 28, 28] torch.uint8\n",
    "data = dataset_tmp.data.float()  # [60000, 28, 28] of dtype torch.uint8 -> torch.float32\n",
    "mean = np.round(data.mean(axis=(0,1,2)).item()/255,4)  # numpy.float64\n",
    "std = np.round(data.std(axis=(0,1,2)).item()/255,4)  # numpy.float64\n",
    "print(f\"mean: {mean}\\nstd: {std}\")  #"
   ]
  },
  {
   "cell_type": "code",
   "execution_count": 6,
   "id": "3de50d7a-6e55-4225-afa8-7479d20427b4",
   "metadata": {
    "id": "3de50d7a-6e55-4225-afa8-7479d20427b4"
   },
   "outputs": [],
   "source": [
    "transform = transforms.Compose([\n",
    "    transforms.ToTensor(),\n",
    "    # normalize only the first tensor, i.e. x, not y\n",
    "    # transforms.Normalize((mean,), (std,))  # (0.1307,), (0.3081,)\n",
    "])\n",
    "\n",
    "# download and save mnist at ./data\n",
    "dataset_train = datasets.MNIST('./_tmp', download=True, train=True, transform=transform)  # dataset_train.data: [60000, 28, 28] torch.uint8\n",
    "dataset_test = datasets.MNIST('./_tmp', download=True, train=False, transform=transform)  # dataset_test.data: [10000, 28, 28] torch.uint8\n",
    "\n",
    "# there's probably a better way...\n",
    "x_test_array = dataset_test.data.numpy()  # ndarray (10000, 28, 28) 'uint8'\n",
    "x_test_ = transform(x_test_array)  # [28, 10000, 28]  torch.float32\n",
    "x_test = x_test_.swapaxes(0, 1)  # 28, 10000, 28]  torch.float32\n",
    "x_test = x_test.swapaxes(1, 2)  # 10000, 28, 28]  torch.float32\n",
    "x_test = torch.unsqueeze(x_test, dim=1)  # [10000, 1, 28, 28]  torch.float32\n",
    "\n",
    "y_test = dataset_test.targets  # [10000] torch.int64\n",
    "\n",
    "# this would unfortunately result in cuda errors; we have to\n",
    "# move to cuda in each batch run\n",
    "# dataset_train.data = dataset_train.data.to(DEVICE)\n",
    "# dataset_train.targets = dataset_train.targets.to(DEVICE)\n",
    "\n",
    "train_loader = DataLoader(dataset_train,\n",
    "                          batch_size=BATCH_SIZE,\n",
    "                          shuffle=True)"
   ]
  },
  {
   "cell_type": "markdown",
   "id": "3666b3be-e3e7-427f-ad64-faccbc211848",
   "metadata": {
    "id": "3666b3be-e3e7-427f-ad64-faccbc211848"
   },
   "source": [
    "## DataLoader"
   ]
  },
  {
   "cell_type": "code",
   "execution_count": 7,
   "id": "57effc49-3570-493c-bc36-82f6292c63fa",
   "metadata": {
    "id": "57effc49-3570-493c-bc36-82f6292c63fa"
   },
   "outputs": [],
   "source": [
    "train_loader = DataLoader(dataset_train, batch_size=BATCH_SIZE, shuffle=True)"
   ]
  },
  {
   "cell_type": "code",
   "execution_count": 8,
   "id": "70828e14-ba3a-4f02-8f0c-84eb7216ec67",
   "metadata": {
    "colab": {
     "base_uri": "https://localhost:8080/",
     "height": 351
    },
    "id": "70828e14-ba3a-4f02-8f0c-84eb7216ec67",
    "outputId": "4b5cf330-618c-45fa-82f6-d22898494b51"
   },
   "outputs": [
    {
     "data": {
      "image/png": "[encoded data removed]",
      "text/plain": [
       "<Figure size 2500x1000 with 10 Axes>"
      ]
     },
     "metadata": {},
     "output_type": "display_data"
    },
    {
     "data": {
      "image/png": "[encoded data removed]",
      "text/plain": [
       "<Figure size 2500x1000 with 10 Axes>"
      ]
     },
     "metadata": {},
     "output_type": "display_data"
    }
   ],
   "source": [
    "# preview first ten images\n",
    "def print_ten_numbers(x: torch.Tensor, y: torch.Tensor):\n",
    "    fig = plt.figure(figsize=(25, 10))  # (width, height) in inches\n",
    "    for i in range(10):\n",
    "        ax = fig.add_subplot(1,         # nrows\n",
    "                             10,        # ncols\n",
    "                             i+1,       # index (1-based)\n",
    "                             xticks=[],\n",
    "                             yticks=[])\n",
    "        image = x[i]  # [1, 28, 28]\n",
    "        # image_numpy_squeezed = image.numpy().squeeze()  # <class 'numpy.ndarray'> of size (28, 28)  # conversion to ndarry not required(anymore).\n",
    "        label = y[i].item()  # int\n",
    "        ax.imshow(X=image.squeeze(),\n",
    "                  cmap='gray')\n",
    "        ax.set_title(f\"{label}\", color=(\"blue\"))\n",
    "\n",
    "# train\n",
    "x_batch, y_batch = next(iter(train_loader))   # x_batch: [128, 1, 28, 28] torch.float32, y_batch: [128] torch.int64\n",
    "\n",
    "print_ten_numbers(x=x_batch, y=y_batch)\n",
    "\n",
    "# test\n",
    "print_ten_numbers(x=x_test, y=y_test)\n"
   ]
  },
  {
   "cell_type": "code",
   "execution_count": 9,
   "id": "5e273625-20e1-4ef7-bdc3-de94b7b69df7",
   "metadata": {
    "id": "5e273625-20e1-4ef7-bdc3-de94b7b69df7"
   },
   "outputs": [],
   "source": [
    "# preview first image data\n",
    "# print(x_batch[0])\n",
    "# print(y_batch[0])"
   ]
  },
  {
   "cell_type": "markdown",
   "id": "0ab5f6f3-4749-478c-b511-77b07a97a6ff",
   "metadata": {
    "id": "0ab5f6f3-4749-478c-b511-77b07a97a6ff"
   },
   "source": [
    "## CNN Classifier"
   ]
  },
  {
   "cell_type": "code",
   "execution_count": 10,
   "id": "5000f110-51f9-45c1-8e23-b78527f85fa7",
   "metadata": {
    "id": "5000f110-51f9-45c1-8e23-b78527f85fa7"
   },
   "outputs": [],
   "source": [
    "class CNNClassifier(torch.nn.Module):\n",
    "    # https://machinelearningknowledge.ai/pytorch-conv2d-explained-with-examples/\n",
    "\n",
    "    def __init__(self, dropout_probability=0.3):\n",
    "        super(CNNClassifier, self).__init__()\n",
    "        self.layer1 = torch.nn.Sequential(\n",
    "            # (?, 1, 28, 28) -> (?, 32, 28, 28)\n",
    "            torch.nn.Conv2d(in_channels=1,  # Number of channels in the input image\n",
    "                            out_channels=32,  # Number of channels produced by the convolution\n",
    "                            kernel_size=3, #  Size of the convolving kernel\n",
    "                            stride=1,  # Stride of the convolution. Default: 1\n",
    "                            padding=1,  # Padding added to all four sides of the input. Default: 0\n",
    "                           ),\n",
    "            # (element-wise)\n",
    "            torch.nn.ReLU(),\n",
    "            # (?, 32, 28, 28)  - > (?, 32, 14, 14)\n",
    "            torch.nn.MaxPool2d(kernel_size=2, # the size of the window to take a max over\n",
    "                               stride=2,  # the stride of the window. Default value is kernel_size\n",
    "                              ),\n",
    "            # (element-wise)\n",
    "            torch.nn.Dropout(p=dropout_probability,  # probability of an element to be zeroed. Default: 0.5\n",
    "                            ),\n",
    "        )\n",
    "\n",
    "        self.layer2 = torch.nn.Sequential(\n",
    "            # (?, 32, 14, 14) --> (?, 64, 14, 14)\n",
    "            torch.nn.Conv2d(in_channels=32,\n",
    "                            out_channels=64,\n",
    "                            kernel_size=3,\n",
    "                            stride=1,\n",
    "                            padding=1),\n",
    "            torch.nn.ReLU(),\n",
    "            # (?, 64, 14, 14) --> (?, 64, 7, 7)\n",
    "            torch.nn.MaxPool2d(kernel_size=2,\n",
    "                               stride=2),\n",
    "            torch.nn.Dropout(p=dropout_probability))\n",
    "\n",
    "        self.layer3 = torch.nn.Sequential(\n",
    "            # (?, 64, 7, 7) --> (?, 128, 7, 7)\n",
    "            torch.nn.Conv2d(in_channels=64,\n",
    "                            out_channels=128,\n",
    "                            kernel_size=3,\n",
    "                            stride=1,\n",
    "                            padding=1),\n",
    "            torch.nn.ReLU(),\n",
    "            # (?, 128, 7, 7) --> (?, 128, 4, 4)\n",
    "            torch.nn.MaxPool2d(kernel_size=2, stride=2, padding=1),\n",
    "            torch.nn.Dropout(p=dropout_probability))\n",
    "\n",
    "        # [128, 2048] --> [128, 625]\n",
    "        self.fc1 = torch.nn.Linear(in_features=4 * 4 * 128,\n",
    "                                   out_features=625,\n",
    "                                   bias=True)\n",
    "        torch.nn.init.xavier_uniform_(self.fc1.weight)  # initialize weights\n",
    "\n",
    "        # [128, 625] --> [128, 10]\n",
    "        self.fc2 = torch.nn.Linear(in_features=625,\n",
    "                                   out_features=10,\n",
    "                                   bias=True)\n",
    "        torch.nn.init.xavier_uniform_(self.fc2.weight)  # initialize weights\n",
    "\n",
    "    def forward(self, x: torch.Tensor) -> torch.Tensor:  # x: [128, 1, 28, 28]\n",
    "        # plt.imshow(x[0][0].detach(), cmap='gray')\n",
    "        output_layer_1 = self.layer1(x)  # [128, 32, 14, 14]\n",
    "        # plt.imshow(output_layer_1[0][0].detach(), cmap='gray')\n",
    "        output_layer_2 = self.layer2(output_layer_1)  # [128, 64, 7, 7]\n",
    "        #plt.imshow(output_layer_2[0][0].detach(), cmap='gray')\n",
    "        output_layer_3 = self.layer3(output_layer_2)  # [128, 128, 4, 4]\n",
    "        #plt.imshow(output_layer_3[0][0].detach(), cmap='gray')\n",
    "\n",
    "        # flatten for FC\n",
    "        output_layer_3_flattened = output_layer_3.view(output_layer_3.size(0), -1)  # [128, 2048]\n",
    "        output_fully_connected_1 = self.fc1(output_layer_3_flattened)  # [128, 625]\n",
    "        output_fully_connected_2 = self.fc2(output_fully_connected_1)  # [128, 10]\n",
    "\n",
    "        return output_fully_connected_2"
   ]
  },
  {
   "cell_type": "code",
   "execution_count": 11,
   "id": "2903f806-70e6-44ca-90bc-f83486d89692",
   "metadata": {
    "colab": {
     "base_uri": "https://localhost:8080/",
     "height": 1000
    },
    "id": "2903f806-70e6-44ca-90bc-f83486d89692",
    "outputId": "5811b562-5fdc-4075-e4dd-a1ce20b9a44a"
   },
   "outputs": [
    {
     "name": "stdout",
     "output_type": "stream",
     "text": [
      "Predictions:\n",
      " tensor([[-0.3773, -0.2486, -0.1195,  ..., -0.2461,  0.0771, -0.0485],\n",
      "        [-0.2822, -0.3524, -0.2194,  ..., -0.1572, -0.2344,  0.0295],\n",
      "        [-0.0039, -0.0463, -0.1155,  ...,  0.0990,  0.0648, -0.1825],\n",
      "        ...,\n",
      "        [ 0.0375, -0.0506, -0.0700,  ...,  0.1151, -0.0897, -0.2503],\n",
      "        [-0.0845, -0.2083, -0.3950,  ..., -0.3214,  0.1079,  0.0946],\n",
      "        [-0.2327, -0.1756, -0.1213,  ..., -0.1013,  0.1515, -0.1617]],\n",
      "       device='cuda:0', grad_fn=<AddmmBackward0>)\n",
      "Predicted Labels:\n",
      " tensor([4, 4, 5, 8, 4, 8, 4, 4, 4, 5, 4, 8, 4, 5, 4, 4, 4, 5, 4, 4, 5, 5, 6, 4,\n",
      "        5, 5, 4, 4, 5, 4, 4, 5, 4, 5, 5, 4, 4, 5, 4, 4, 5, 5, 8, 5, 4, 4, 5, 4,\n",
      "        1, 4, 5, 5, 6, 4, 5, 4, 5, 5, 4, 9, 4, 4, 5, 8, 5, 5, 4, 5, 4, 6, 4, 4,\n",
      "        5, 9, 5, 5, 3, 5, 4, 5, 4, 5, 5, 4, 4, 5, 5, 5, 4, 4, 5, 5, 4, 8, 4, 4,\n",
      "        5, 6, 5, 4, 5, 4, 5, 4, 4, 5, 5, 4, 4, 5, 5, 5, 5, 4, 4, 4, 4, 4, 5, 5,\n",
      "        5, 5, 4, 6, 4, 4, 5, 5], device='cuda:0')\n"
     ]
    },
    {
     "data": {
      "image/svg+xml": [
       "<?xml version=\"1.0\" encoding=\"UTF-8\" standalone=\"no\"?>\n",
       "<!DOCTYPE svg PUBLIC \"-//W3C//DTD SVG 1.1//EN\"\n",
       " \"http://www.w3.org/Graphics/SVG/1.1/DTD/svg11.dtd\">\n",
       "<!-- Generated by graphviz version 2.43.0 (0)\n",
       " -->\n",
       "<!-- Title: %3 Pages: 1 -->\n",
       "<svg width=\"615pt\" height=\"864pt\"\n",
       " viewBox=\"0.00 0.00 614.55 864.00\" xmlns=\"http://www.w3.org/2000/svg\" xmlns:xlink=\"http://www.w3.org/1999/xlink\">\n",
       "<g id=\"graph0\" class=\"graph\" transform=\"scale(1.21 1.21) rotate(0) translate(4 1042)\">\n",
       "<title>%3</title>\n",
       "<polygon fill=\"white\" stroke=\"transparent\" points=\"-4,4 -4,-1042 740,-1042 740,4 -4,4\"/>\n",
       "<!-- 133102854714000 -->\n",
       "<g id=\"node1\" class=\"node\">\n",
       "<title>133102854714000</title>\n",
       "<polygon fill=\"#caff70\" stroke=\"black\" points=\"484,-31 407,-31 407,0 484,0 484,-31\"/>\n",
       "<text text-anchor=\"middle\" x=\"445.5\" y=\"-7\" font-family=\"monospace\" font-size=\"10.00\"> (128, 10)</text>\n",
       "</g>\n",
       "<!-- 133102852684096 -->\n",
       "<g id=\"node2\" class=\"node\">\n",
       "<title>133102852684096</title>\n",
       "<polygon fill=\"lightgrey\" stroke=\"black\" points=\"496,-86 395,-86 395,-67 496,-67 496,-86\"/>\n",
       "<text text-anchor=\"middle\" x=\"445.5\" y=\"-74\" font-family=\"monospace\" font-size=\"10.00\">AddmmBackward0</text>\n",
       "</g>\n",
       "<!-- 133102852684096&#45;&gt;133102854714000 -->\n",
       "<g id=\"edge37\" class=\"edge\">\n",
       "<title>133102852684096&#45;&gt;133102854714000</title>\n",
       "<path fill=\"none\" stroke=\"black\" d=\"M445.5,-66.79C445.5,-60.07 445.5,-50.4 445.5,-41.34\"/>\n",
       "<polygon fill=\"black\" stroke=\"black\" points=\"449,-41.19 445.5,-31.19 442,-41.19 449,-41.19\"/>\n",
       "</g>\n",
       "<!-- 133102852684144 -->\n",
       "<g id=\"node3\" class=\"node\">\n",
       "<title>133102852684144</title>\n",
       "<polygon fill=\"lightgrey\" stroke=\"black\" points=\"331,-141 230,-141 230,-122 331,-122 331,-141\"/>\n",
       "<text text-anchor=\"middle\" x=\"280.5\" y=\"-129\" font-family=\"monospace\" font-size=\"10.00\">AccumulateGrad</text>\n",
       "</g>\n",
       "<!-- 133102852684144&#45;&gt;133102852684096 -->\n",
       "<g id=\"edge1\" class=\"edge\">\n",
       "<title>133102852684144&#45;&gt;133102852684096</title>\n",
       "<path fill=\"none\" stroke=\"black\" d=\"M307.01,-121.98C334.71,-113.09 378.36,-99.07 409.24,-89.15\"/>\n",
       "<polygon fill=\"black\" stroke=\"black\" points=\"410.33,-92.47 418.78,-86.08 408.19,-85.81 410.33,-92.47\"/>\n",
       "</g>\n",
       "<!-- 133102854709280 -->\n",
       "<g id=\"node4\" class=\"node\">\n",
       "<title>133102854709280</title>\n",
       "<polygon fill=\"lightblue\" stroke=\"black\" points=\"260.5,-208 206.5,-208 206.5,-177 260.5,-177 260.5,-208\"/>\n",
       "<text text-anchor=\"middle\" x=\"233.5\" y=\"-184\" font-family=\"monospace\" font-size=\"10.00\"> (10)</text>\n",
       "</g>\n",
       "<!-- 133102854709280&#45;&gt;133102852684144 -->\n",
       "<g id=\"edge2\" class=\"edge\">\n",
       "<title>133102854709280&#45;&gt;133102852684144</title>\n",
       "<path fill=\"none\" stroke=\"black\" d=\"M245.12,-176.92C251.81,-168.52 260.23,-157.94 267.19,-149.21\"/>\n",
       "<polygon fill=\"black\" stroke=\"black\" points=\"270.04,-151.25 273.53,-141.25 264.56,-146.89 270.04,-151.25\"/>\n",
       "</g>\n",
       "<!-- 133102852685056 -->\n",
       "<g id=\"node5\" class=\"node\">\n",
       "<title>133102852685056</title>\n",
       "<polygon fill=\"lightgrey\" stroke=\"black\" points=\"496,-141 395,-141 395,-122 496,-122 496,-141\"/>\n",
       "<text text-anchor=\"middle\" x=\"445.5\" y=\"-129\" font-family=\"monospace\" font-size=\"10.00\">AddmmBackward0</text>\n",
       "</g>\n",
       "<!-- 133102852685056&#45;&gt;133102852684096 -->\n",
       "<g id=\"edge3\" class=\"edge\">\n",
       "<title>133102852685056&#45;&gt;133102852684096</title>\n",
       "<path fill=\"none\" stroke=\"black\" d=\"M445.5,-121.75C445.5,-114.8 445.5,-104.85 445.5,-96.13\"/>\n",
       "<polygon fill=\"black\" stroke=\"black\" points=\"449,-96.09 445.5,-86.09 442,-96.09 449,-96.09\"/>\n",
       "</g>\n",
       "<!-- 133102852684816 -->\n",
       "<g id=\"node6\" class=\"node\">\n",
       "<title>133102852684816</title>\n",
       "<polygon fill=\"lightgrey\" stroke=\"black\" points=\"380,-202 279,-202 279,-183 380,-183 380,-202\"/>\n",
       "<text text-anchor=\"middle\" x=\"329.5\" y=\"-190\" font-family=\"monospace\" font-size=\"10.00\">AccumulateGrad</text>\n",
       "</g>\n",
       "<!-- 133102852684816&#45;&gt;133102852685056 -->\n",
       "<g id=\"edge4\" class=\"edge\">\n",
       "<title>133102852684816&#45;&gt;133102852685056</title>\n",
       "<path fill=\"none\" stroke=\"black\" d=\"M346.62,-182.79C365.83,-173.02 397.22,-157.05 419.48,-145.73\"/>\n",
       "<polygon fill=\"black\" stroke=\"black\" points=\"421.36,-148.7 428.69,-141.05 418.19,-142.46 421.36,-148.7\"/>\n",
       "</g>\n",
       "<!-- 133102854709920 -->\n",
       "<g id=\"node7\" class=\"node\">\n",
       "<title>133102854709920</title>\n",
       "<polygon fill=\"lightblue\" stroke=\"black\" points=\"343.5,-275 289.5,-275 289.5,-244 343.5,-244 343.5,-275\"/>\n",
       "<text text-anchor=\"middle\" x=\"316.5\" y=\"-251\" font-family=\"monospace\" font-size=\"10.00\"> (625)</text>\n",
       "</g>\n",
       "<!-- 133102854709920&#45;&gt;133102852684816 -->\n",
       "<g id=\"edge5\" class=\"edge\">\n",
       "<title>133102854709920&#45;&gt;133102852684816</title>\n",
       "<path fill=\"none\" stroke=\"black\" d=\"M319.45,-243.75C321.34,-234.29 323.81,-221.93 325.83,-211.84\"/>\n",
       "<polygon fill=\"black\" stroke=\"black\" points=\"329.27,-212.51 327.8,-202.02 322.4,-211.14 329.27,-212.51\"/>\n",
       "</g>\n",
       "<!-- 133102852683472 -->\n",
       "<g id=\"node8\" class=\"node\">\n",
       "<title>133102852683472</title>\n",
       "<polygon fill=\"lightgrey\" stroke=\"black\" points=\"493,-202 398,-202 398,-183 493,-183 493,-202\"/>\n",
       "<text text-anchor=\"middle\" x=\"445.5\" y=\"-190\" font-family=\"monospace\" font-size=\"10.00\">ViewBackward0</text>\n",
       "</g>\n",
       "<!-- 133102852683472&#45;&gt;133102852685056 -->\n",
       "<g id=\"edge6\" class=\"edge\">\n",
       "<title>133102852683472&#45;&gt;133102852685056</title>\n",
       "<path fill=\"none\" stroke=\"black\" d=\"M445.5,-182.79C445.5,-174.6 445.5,-162.06 445.5,-151.55\"/>\n",
       "<polygon fill=\"black\" stroke=\"black\" points=\"449,-151.24 445.5,-141.24 442,-151.24 449,-151.24\"/>\n",
       "</g>\n",
       "<!-- 133102852680688 -->\n",
       "<g id=\"node9\" class=\"node\">\n",
       "<title>133102852680688</title>\n",
       "<polygon fill=\"lightgrey\" stroke=\"black\" points=\"510,-269 361,-269 361,-250 510,-250 510,-269\"/>\n",
       "<text text-anchor=\"middle\" x=\"435.5\" y=\"-257\" font-family=\"monospace\" font-size=\"10.00\">NativeDropoutBackward0</text>\n",
       "</g>\n",
       "<!-- 133102852680688&#45;&gt;133102852683472 -->\n",
       "<g id=\"edge7\" class=\"edge\">\n",
       "<title>133102852680688&#45;&gt;133102852683472</title>\n",
       "<path fill=\"none\" stroke=\"black\" d=\"M436.85,-249.73C438.32,-240.18 440.71,-224.62 442.61,-212.28\"/>\n",
       "<polygon fill=\"black\" stroke=\"black\" points=\"446.11,-212.54 444.17,-202.13 439.19,-211.48 446.11,-212.54\"/>\n",
       "</g>\n",
       "<!-- 133102852680304 -->\n",
       "<g id=\"node10\" class=\"node\">\n",
       "<title>133102852680304</title>\n",
       "<polygon fill=\"lightgrey\" stroke=\"black\" points=\"523,-336 332,-336 332,-317 523,-317 523,-336\"/>\n",
       "<text text-anchor=\"middle\" x=\"427.5\" y=\"-324\" font-family=\"monospace\" font-size=\"10.00\">MaxPool2DWithIndicesBackward0</text>\n",
       "</g>\n",
       "<!-- 133102852680304&#45;&gt;133102852680688 -->\n",
       "<g id=\"edge8\" class=\"edge\">\n",
       "<title>133102852680304&#45;&gt;133102852680688</title>\n",
       "<path fill=\"none\" stroke=\"black\" d=\"M428.58,-316.73C429.75,-307.18 431.67,-291.62 433.19,-279.28\"/>\n",
       "<polygon fill=\"black\" stroke=\"black\" points=\"436.69,-279.48 434.44,-269.13 429.74,-278.62 436.69,-279.48\"/>\n",
       "</g>\n",
       "<!-- 133102852680208 -->\n",
       "<g id=\"node11\" class=\"node\">\n",
       "<title>133102852680208</title>\n",
       "<polygon fill=\"lightgrey\" stroke=\"black\" points=\"475,-397 380,-397 380,-378 475,-378 475,-397\"/>\n",
       "<text text-anchor=\"middle\" x=\"427.5\" y=\"-385\" font-family=\"monospace\" font-size=\"10.00\">ReluBackward0</text>\n",
       "</g>\n",
       "<!-- 133102852680208&#45;&gt;133102852680304 -->\n",
       "<g id=\"edge9\" class=\"edge\">\n",
       "<title>133102852680208&#45;&gt;133102852680304</title>\n",
       "<path fill=\"none\" stroke=\"black\" d=\"M427.5,-377.79C427.5,-369.6 427.5,-357.06 427.5,-346.55\"/>\n",
       "<polygon fill=\"black\" stroke=\"black\" points=\"431,-346.24 427.5,-336.24 424,-346.24 431,-346.24\"/>\n",
       "</g>\n",
       "<!-- 133102852680112 -->\n",
       "<g id=\"node12\" class=\"node\">\n",
       "<title>133102852680112</title>\n",
       "<polygon fill=\"lightgrey\" stroke=\"black\" points=\"496,-452 359,-452 359,-433 496,-433 496,-452\"/>\n",
       "<text text-anchor=\"middle\" x=\"427.5\" y=\"-440\" font-family=\"monospace\" font-size=\"10.00\">ConvolutionBackward0</text>\n",
       "</g>\n",
       "<!-- 133102852680112&#45;&gt;133102852680208 -->\n",
       "<g id=\"edge10\" class=\"edge\">\n",
       "<title>133102852680112&#45;&gt;133102852680208</title>\n",
       "<path fill=\"none\" stroke=\"black\" d=\"M427.5,-432.75C427.5,-425.8 427.5,-415.85 427.5,-407.13\"/>\n",
       "<polygon fill=\"black\" stroke=\"black\" points=\"431,-407.09 427.5,-397.09 424,-407.09 431,-407.09\"/>\n",
       "</g>\n",
       "<!-- 133102852680016 -->\n",
       "<g id=\"node13\" class=\"node\">\n",
       "<title>133102852680016</title>\n",
       "<polygon fill=\"lightgrey\" stroke=\"black\" points=\"350,-507 201,-507 201,-488 350,-488 350,-507\"/>\n",
       "<text text-anchor=\"middle\" x=\"275.5\" y=\"-495\" font-family=\"monospace\" font-size=\"10.00\">NativeDropoutBackward0</text>\n",
       "</g>\n",
       "<!-- 133102852680016&#45;&gt;133102852680112 -->\n",
       "<g id=\"edge11\" class=\"edge\">\n",
       "<title>133102852680016&#45;&gt;133102852680112</title>\n",
       "<path fill=\"none\" stroke=\"black\" d=\"M299.92,-487.98C325.22,-479.16 364.95,-465.31 393.36,-455.41\"/>\n",
       "<polygon fill=\"black\" stroke=\"black\" points=\"394.6,-458.68 402.89,-452.08 392.29,-452.07 394.6,-458.68\"/>\n",
       "</g>\n",
       "<!-- 133102852679968 -->\n",
       "<g id=\"node14\" class=\"node\">\n",
       "<title>133102852679968</title>\n",
       "<polygon fill=\"lightgrey\" stroke=\"black\" points=\"362,-568 171,-568 171,-549 362,-549 362,-568\"/>\n",
       "<text text-anchor=\"middle\" x=\"266.5\" y=\"-556\" font-family=\"monospace\" font-size=\"10.00\">MaxPool2DWithIndicesBackward0</text>\n",
       "</g>\n",
       "<!-- 133102852679968&#45;&gt;133102852680016 -->\n",
       "<g id=\"edge12\" class=\"edge\">\n",
       "<title>133102852679968&#45;&gt;133102852680016</title>\n",
       "<path fill=\"none\" stroke=\"black\" d=\"M267.83,-548.79C269.09,-540.52 271.03,-527.79 272.65,-517.21\"/>\n",
       "<polygon fill=\"black\" stroke=\"black\" points=\"276.12,-517.65 274.17,-507.24 269.2,-516.6 276.12,-517.65\"/>\n",
       "</g>\n",
       "<!-- 133102852679872 -->\n",
       "<g id=\"node15\" class=\"node\">\n",
       "<title>133102852679872</title>\n",
       "<polygon fill=\"lightgrey\" stroke=\"black\" points=\"314,-629 219,-629 219,-610 314,-610 314,-629\"/>\n",
       "<text text-anchor=\"middle\" x=\"266.5\" y=\"-617\" font-family=\"monospace\" font-size=\"10.00\">ReluBackward0</text>\n",
       "</g>\n",
       "<!-- 133102852679872&#45;&gt;133102852679968 -->\n",
       "<g id=\"edge13\" class=\"edge\">\n",
       "<title>133102852679872&#45;&gt;133102852679968</title>\n",
       "<path fill=\"none\" stroke=\"black\" d=\"M266.5,-609.79C266.5,-601.6 266.5,-589.06 266.5,-578.55\"/>\n",
       "<polygon fill=\"black\" stroke=\"black\" points=\"270,-578.24 266.5,-568.24 263,-578.24 270,-578.24\"/>\n",
       "</g>\n",
       "<!-- 133102852679776 -->\n",
       "<g id=\"node16\" class=\"node\">\n",
       "<title>133102852679776</title>\n",
       "<polygon fill=\"lightgrey\" stroke=\"black\" points=\"335,-684 198,-684 198,-665 335,-665 335,-684\"/>\n",
       "<text text-anchor=\"middle\" x=\"266.5\" y=\"-672\" font-family=\"monospace\" font-size=\"10.00\">ConvolutionBackward0</text>\n",
       "</g>\n",
       "<!-- 133102852679776&#45;&gt;133102852679872 -->\n",
       "<g id=\"edge14\" class=\"edge\">\n",
       "<title>133102852679776&#45;&gt;133102852679872</title>\n",
       "<path fill=\"none\" stroke=\"black\" d=\"M266.5,-664.75C266.5,-657.8 266.5,-647.85 266.5,-639.13\"/>\n",
       "<polygon fill=\"black\" stroke=\"black\" points=\"270,-639.09 266.5,-629.09 263,-639.09 270,-639.09\"/>\n",
       "</g>\n",
       "<!-- 133102852679536 -->\n",
       "<g id=\"node17\" class=\"node\">\n",
       "<title>133102852679536</title>\n",
       "<polygon fill=\"lightgrey\" stroke=\"black\" points=\"191,-739 42,-739 42,-720 191,-720 191,-739\"/>\n",
       "<text text-anchor=\"middle\" x=\"116.5\" y=\"-727\" font-family=\"monospace\" font-size=\"10.00\">NativeDropoutBackward0</text>\n",
       "</g>\n",
       "<!-- 133102852679536&#45;&gt;133102852679776 -->\n",
       "<g id=\"edge15\" class=\"edge\">\n",
       "<title>133102852679536&#45;&gt;133102852679776</title>\n",
       "<path fill=\"none\" stroke=\"black\" d=\"M140.6,-719.98C165.38,-711.23 204.2,-697.51 232.19,-687.62\"/>\n",
       "<polygon fill=\"black\" stroke=\"black\" points=\"233.7,-690.8 241.96,-684.17 231.37,-684.2 233.7,-690.8\"/>\n",
       "</g>\n",
       "<!-- 133102852679344 -->\n",
       "<g id=\"node18\" class=\"node\">\n",
       "<title>133102852679344</title>\n",
       "<polygon fill=\"lightgrey\" stroke=\"black\" points=\"205,-800 14,-800 14,-781 205,-781 205,-800\"/>\n",
       "<text text-anchor=\"middle\" x=\"109.5\" y=\"-788\" font-family=\"monospace\" font-size=\"10.00\">MaxPool2DWithIndicesBackward0</text>\n",
       "</g>\n",
       "<!-- 133102852679344&#45;&gt;133102852679536 -->\n",
       "<g id=\"edge16\" class=\"edge\">\n",
       "<title>133102852679344&#45;&gt;133102852679536</title>\n",
       "<path fill=\"none\" stroke=\"black\" d=\"M110.53,-780.79C111.52,-772.52 113.02,-759.79 114.28,-749.21\"/>\n",
       "<polygon fill=\"black\" stroke=\"black\" points=\"117.76,-749.58 115.46,-739.24 110.81,-748.76 117.76,-749.58\"/>\n",
       "</g>\n",
       "<!-- 133102852679680 -->\n",
       "<g id=\"node19\" class=\"node\">\n",
       "<title>133102852679680</title>\n",
       "<polygon fill=\"lightgrey\" stroke=\"black\" points=\"157,-861 62,-861 62,-842 157,-842 157,-861\"/>\n",
       "<text text-anchor=\"middle\" x=\"109.5\" y=\"-849\" font-family=\"monospace\" font-size=\"10.00\">ReluBackward0</text>\n",
       "</g>\n",
       "<!-- 133102852679680&#45;&gt;133102852679344 -->\n",
       "<g id=\"edge17\" class=\"edge\">\n",
       "<title>133102852679680&#45;&gt;133102852679344</title>\n",
       "<path fill=\"none\" stroke=\"black\" d=\"M109.5,-841.79C109.5,-833.6 109.5,-821.06 109.5,-810.55\"/>\n",
       "<polygon fill=\"black\" stroke=\"black\" points=\"113,-810.24 109.5,-800.24 106,-810.24 113,-810.24\"/>\n",
       "</g>\n",
       "<!-- 133102852679296 -->\n",
       "<g id=\"node20\" class=\"node\">\n",
       "<title>133102852679296</title>\n",
       "<polygon fill=\"lightgrey\" stroke=\"black\" points=\"178,-916 41,-916 41,-897 178,-897 178,-916\"/>\n",
       "<text text-anchor=\"middle\" x=\"109.5\" y=\"-904\" font-family=\"monospace\" font-size=\"10.00\">ConvolutionBackward0</text>\n",
       "</g>\n",
       "<!-- 133102852679296&#45;&gt;133102852679680 -->\n",
       "<g id=\"edge18\" class=\"edge\">\n",
       "<title>133102852679296&#45;&gt;133102852679680</title>\n",
       "<path fill=\"none\" stroke=\"black\" d=\"M109.5,-896.75C109.5,-889.8 109.5,-879.85 109.5,-871.13\"/>\n",
       "<polygon fill=\"black\" stroke=\"black\" points=\"113,-871.09 109.5,-861.09 106,-871.09 113,-871.09\"/>\n",
       "</g>\n",
       "<!-- 133102852679056 -->\n",
       "<g id=\"node21\" class=\"node\">\n",
       "<title>133102852679056</title>\n",
       "<polygon fill=\"lightgrey\" stroke=\"black\" points=\"101,-971 0,-971 0,-952 101,-952 101,-971\"/>\n",
       "<text text-anchor=\"middle\" x=\"50.5\" y=\"-959\" font-family=\"monospace\" font-size=\"10.00\">AccumulateGrad</text>\n",
       "</g>\n",
       "<!-- 133102852679056&#45;&gt;133102852679296 -->\n",
       "<g id=\"edge19\" class=\"edge\">\n",
       "<title>133102852679056&#45;&gt;133102852679296</title>\n",
       "<path fill=\"none\" stroke=\"black\" d=\"M59.98,-951.98C68.7,-944.15 81.84,-932.34 92.4,-922.86\"/>\n",
       "<polygon fill=\"black\" stroke=\"black\" points=\"94.75,-925.46 99.85,-916.17 90.07,-920.25 94.75,-925.46\"/>\n",
       "</g>\n",
       "<!-- 133102854713920 -->\n",
       "<g id=\"node22\" class=\"node\">\n",
       "<title>133102854713920</title>\n",
       "<polygon fill=\"lightblue\" stroke=\"black\" points=\"101,-1038 0,-1038 0,-1007 101,-1007 101,-1038\"/>\n",
       "<text text-anchor=\"middle\" x=\"50.5\" y=\"-1014\" font-family=\"monospace\" font-size=\"10.00\"> (32, 1, 3, 3)</text>\n",
       "</g>\n",
       "<!-- 133102854713920&#45;&gt;133102852679056 -->\n",
       "<g id=\"edge20\" class=\"edge\">\n",
       "<title>133102854713920&#45;&gt;133102852679056</title>\n",
       "<path fill=\"none\" stroke=\"black\" d=\"M50.5,-1006.92C50.5,-999.22 50.5,-989.69 50.5,-981.43\"/>\n",
       "<polygon fill=\"black\" stroke=\"black\" points=\"54,-981.25 50.5,-971.25 47,-981.25 54,-981.25\"/>\n",
       "</g>\n",
       "<!-- 133102852679104 -->\n",
       "<g id=\"node23\" class=\"node\">\n",
       "<title>133102852679104</title>\n",
       "<polygon fill=\"lightgrey\" stroke=\"black\" points=\"220,-971 119,-971 119,-952 220,-952 220,-971\"/>\n",
       "<text text-anchor=\"middle\" x=\"169.5\" y=\"-959\" font-family=\"monospace\" font-size=\"10.00\">AccumulateGrad</text>\n",
       "</g>\n",
       "<!-- 133102852679104&#45;&gt;133102852679296 -->\n",
       "<g id=\"edge21\" class=\"edge\">\n",
       "<title>133102852679104&#45;&gt;133102852679296</title>\n",
       "<path fill=\"none\" stroke=\"black\" d=\"M159.86,-951.98C150.99,-944.15 137.63,-932.34 126.89,-922.86\"/>\n",
       "<polygon fill=\"black\" stroke=\"black\" points=\"129.13,-920.17 119.32,-916.17 124.49,-925.41 129.13,-920.17\"/>\n",
       "</g>\n",
       "<!-- 133102854713600 -->\n",
       "<g id=\"node24\" class=\"node\">\n",
       "<title>133102854713600</title>\n",
       "<polygon fill=\"lightblue\" stroke=\"black\" points=\"196.5,-1038 142.5,-1038 142.5,-1007 196.5,-1007 196.5,-1038\"/>\n",
       "<text text-anchor=\"middle\" x=\"169.5\" y=\"-1014\" font-family=\"monospace\" font-size=\"10.00\"> (32)</text>\n",
       "</g>\n",
       "<!-- 133102854713600&#45;&gt;133102852679104 -->\n",
       "<g id=\"edge22\" class=\"edge\">\n",
       "<title>133102854713600&#45;&gt;133102852679104</title>\n",
       "<path fill=\"none\" stroke=\"black\" d=\"M169.5,-1006.92C169.5,-999.22 169.5,-989.69 169.5,-981.43\"/>\n",
       "<polygon fill=\"black\" stroke=\"black\" points=\"173,-981.25 169.5,-971.25 166,-981.25 173,-981.25\"/>\n",
       "</g>\n",
       "<!-- 133102852679584 -->\n",
       "<g id=\"node25\" class=\"node\">\n",
       "<title>133102852679584</title>\n",
       "<polygon fill=\"lightgrey\" stroke=\"black\" points=\"317,-739 216,-739 216,-720 317,-720 317,-739\"/>\n",
       "<text text-anchor=\"middle\" x=\"266.5\" y=\"-727\" font-family=\"monospace\" font-size=\"10.00\">AccumulateGrad</text>\n",
       "</g>\n",
       "<!-- 133102852679584&#45;&gt;133102852679776 -->\n",
       "<g id=\"edge23\" class=\"edge\">\n",
       "<title>133102852679584&#45;&gt;133102852679776</title>\n",
       "<path fill=\"none\" stroke=\"black\" d=\"M266.5,-719.75C266.5,-712.8 266.5,-702.85 266.5,-694.13\"/>\n",
       "<polygon fill=\"black\" stroke=\"black\" points=\"270,-694.09 266.5,-684.09 263,-694.09 270,-694.09\"/>\n",
       "</g>\n",
       "<!-- 133102854201936 -->\n",
       "<g id=\"node26\" class=\"node\">\n",
       "<title>133102854201936</title>\n",
       "<polygon fill=\"lightblue\" stroke=\"black\" points=\"330,-806 223,-806 223,-775 330,-775 330,-806\"/>\n",
       "<text text-anchor=\"middle\" x=\"276.5\" y=\"-782\" font-family=\"monospace\" font-size=\"10.00\"> (64, 32, 3, 3)</text>\n",
       "</g>\n",
       "<!-- 133102854201936&#45;&gt;133102852679584 -->\n",
       "<g id=\"edge24\" class=\"edge\">\n",
       "<title>133102854201936&#45;&gt;133102852679584</title>\n",
       "<path fill=\"none\" stroke=\"black\" d=\"M274.03,-774.92C272.71,-767.13 271.07,-757.47 269.66,-749.15\"/>\n",
       "<polygon fill=\"black\" stroke=\"black\" points=\"273.1,-748.52 267.98,-739.25 266.2,-749.69 273.1,-748.52\"/>\n",
       "</g>\n",
       "<!-- 133102852680592 -->\n",
       "<g id=\"node27\" class=\"node\">\n",
       "<title>133102852680592</title>\n",
       "<polygon fill=\"lightgrey\" stroke=\"black\" points=\"436,-739 335,-739 335,-720 436,-720 436,-739\"/>\n",
       "<text text-anchor=\"middle\" x=\"385.5\" y=\"-727\" font-family=\"monospace\" font-size=\"10.00\">AccumulateGrad</text>\n",
       "</g>\n",
       "<!-- 133102852680592&#45;&gt;133102852679776 -->\n",
       "<g id=\"edge25\" class=\"edge\">\n",
       "<title>133102852680592&#45;&gt;133102852679776</title>\n",
       "<path fill=\"none\" stroke=\"black\" d=\"M366.38,-719.98C347.15,-711.42 317.27,-698.11 295.19,-688.28\"/>\n",
       "<polygon fill=\"black\" stroke=\"black\" points=\"296.53,-685.04 285.97,-684.17 293.68,-691.44 296.53,-685.04\"/>\n",
       "</g>\n",
       "<!-- 133102856736816 -->\n",
       "<g id=\"node28\" class=\"node\">\n",
       "<title>133102856736816</title>\n",
       "<polygon fill=\"lightblue\" stroke=\"black\" points=\"412.5,-806 358.5,-806 358.5,-775 412.5,-775 412.5,-806\"/>\n",
       "<text text-anchor=\"middle\" x=\"385.5\" y=\"-782\" font-family=\"monospace\" font-size=\"10.00\"> (64)</text>\n",
       "</g>\n",
       "<!-- 133102856736816&#45;&gt;133102852680592 -->\n",
       "<g id=\"edge26\" class=\"edge\">\n",
       "<title>133102856736816&#45;&gt;133102852680592</title>\n",
       "<path fill=\"none\" stroke=\"black\" d=\"M385.5,-774.92C385.5,-767.22 385.5,-757.69 385.5,-749.43\"/>\n",
       "<polygon fill=\"black\" stroke=\"black\" points=\"389,-749.25 385.5,-739.25 382,-749.25 389,-749.25\"/>\n",
       "</g>\n",
       "<!-- 133102852680064 -->\n",
       "<g id=\"node29\" class=\"node\">\n",
       "<title>133102852680064</title>\n",
       "<polygon fill=\"lightgrey\" stroke=\"black\" points=\"478,-507 377,-507 377,-488 478,-488 478,-507\"/>\n",
       "<text text-anchor=\"middle\" x=\"427.5\" y=\"-495\" font-family=\"monospace\" font-size=\"10.00\">AccumulateGrad</text>\n",
       "</g>\n",
       "<!-- 133102852680064&#45;&gt;133102852680112 -->\n",
       "<g id=\"edge27\" class=\"edge\">\n",
       "<title>133102852680064&#45;&gt;133102852680112</title>\n",
       "<path fill=\"none\" stroke=\"black\" d=\"M427.5,-487.75C427.5,-480.8 427.5,-470.85 427.5,-462.13\"/>\n",
       "<polygon fill=\"black\" stroke=\"black\" points=\"431,-462.09 427.5,-452.09 424,-462.09 431,-462.09\"/>\n",
       "</g>\n",
       "<!-- 133102855571632 -->\n",
       "<g id=\"node30\" class=\"node\">\n",
       "<title>133102855571632</title>\n",
       "<polygon fill=\"lightblue\" stroke=\"black\" points=\"493,-574 380,-574 380,-543 493,-543 493,-574\"/>\n",
       "<text text-anchor=\"middle\" x=\"436.5\" y=\"-550\" font-family=\"monospace\" font-size=\"10.00\"> (128, 64, 3, 3)</text>\n",
       "</g>\n",
       "<!-- 133102855571632&#45;&gt;133102852680064 -->\n",
       "<g id=\"edge28\" class=\"edge\">\n",
       "<title>133102855571632&#45;&gt;133102852680064</title>\n",
       "<path fill=\"none\" stroke=\"black\" d=\"M434.28,-542.92C433.09,-535.13 431.61,-525.47 430.34,-517.15\"/>\n",
       "<polygon fill=\"black\" stroke=\"black\" points=\"433.8,-516.61 428.83,-507.25 426.88,-517.66 433.8,-516.61\"/>\n",
       "</g>\n",
       "<!-- 133102852680400 -->\n",
       "<g id=\"node31\" class=\"node\">\n",
       "<title>133102852680400</title>\n",
       "<polygon fill=\"lightgrey\" stroke=\"black\" points=\"597,-507 496,-507 496,-488 597,-488 597,-507\"/>\n",
       "<text text-anchor=\"middle\" x=\"546.5\" y=\"-495\" font-family=\"monospace\" font-size=\"10.00\">AccumulateGrad</text>\n",
       "</g>\n",
       "<!-- 133102852680400&#45;&gt;133102852680112 -->\n",
       "<g id=\"edge29\" class=\"edge\">\n",
       "<title>133102852680400&#45;&gt;133102852680112</title>\n",
       "<path fill=\"none\" stroke=\"black\" d=\"M527.38,-487.98C508.15,-479.42 478.27,-466.11 456.19,-456.28\"/>\n",
       "<polygon fill=\"black\" stroke=\"black\" points=\"457.53,-453.04 446.97,-452.17 454.68,-459.44 457.53,-453.04\"/>\n",
       "</g>\n",
       "<!-- 133102854709440 -->\n",
       "<g id=\"node32\" class=\"node\">\n",
       "<title>133102854709440</title>\n",
       "<polygon fill=\"lightblue\" stroke=\"black\" points=\"573.5,-574 519.5,-574 519.5,-543 573.5,-543 573.5,-574\"/>\n",
       "<text text-anchor=\"middle\" x=\"546.5\" y=\"-550\" font-family=\"monospace\" font-size=\"10.00\"> (128)</text>\n",
       "</g>\n",
       "<!-- 133102854709440&#45;&gt;133102852680400 -->\n",
       "<g id=\"edge30\" class=\"edge\">\n",
       "<title>133102854709440&#45;&gt;133102852680400</title>\n",
       "<path fill=\"none\" stroke=\"black\" d=\"M546.5,-542.92C546.5,-535.22 546.5,-525.69 546.5,-517.43\"/>\n",
       "<polygon fill=\"black\" stroke=\"black\" points=\"550,-517.25 546.5,-507.25 543,-517.25 550,-517.25\"/>\n",
       "</g>\n",
       "<!-- 133102852685248 -->\n",
       "<g id=\"node33\" class=\"node\">\n",
       "<title>133102852685248</title>\n",
       "<polygon fill=\"lightgrey\" stroke=\"black\" points=\"607,-202 530,-202 530,-183 607,-183 607,-202\"/>\n",
       "<text text-anchor=\"middle\" x=\"568.5\" y=\"-190\" font-family=\"monospace\" font-size=\"10.00\">TBackward0</text>\n",
       "</g>\n",
       "<!-- 133102852685248&#45;&gt;133102852685056 -->\n",
       "<g id=\"edge31\" class=\"edge\">\n",
       "<title>133102852685248&#45;&gt;133102852685056</title>\n",
       "<path fill=\"none\" stroke=\"black\" d=\"M550.61,-182.92C530.12,-173.09 496.31,-156.87 472.58,-145.49\"/>\n",
       "<polygon fill=\"black\" stroke=\"black\" points=\"473.94,-142.26 463.41,-141.09 470.91,-148.57 473.94,-142.26\"/>\n",
       "</g>\n",
       "<!-- 133102852680256 -->\n",
       "<g id=\"node34\" class=\"node\">\n",
       "<title>133102852680256</title>\n",
       "<polygon fill=\"lightgrey\" stroke=\"black\" points=\"629,-269 528,-269 528,-250 629,-250 629,-269\"/>\n",
       "<text text-anchor=\"middle\" x=\"578.5\" y=\"-257\" font-family=\"monospace\" font-size=\"10.00\">AccumulateGrad</text>\n",
       "</g>\n",
       "<!-- 133102852680256&#45;&gt;133102852685248 -->\n",
       "<g id=\"edge32\" class=\"edge\">\n",
       "<title>133102852680256&#45;&gt;133102852685248</title>\n",
       "<path fill=\"none\" stroke=\"black\" d=\"M577.15,-249.73C575.68,-240.18 573.29,-224.62 571.39,-212.28\"/>\n",
       "<polygon fill=\"black\" stroke=\"black\" points=\"574.81,-211.48 569.83,-202.13 567.89,-212.54 574.81,-211.48\"/>\n",
       "</g>\n",
       "<!-- 133102853926288 -->\n",
       "<g id=\"node35\" class=\"node\">\n",
       "<title>133102853926288</title>\n",
       "<polygon fill=\"lightblue\" stroke=\"black\" points=\"630,-342 541,-342 541,-311 630,-311 630,-342\"/>\n",
       "<text text-anchor=\"middle\" x=\"585.5\" y=\"-318\" font-family=\"monospace\" font-size=\"10.00\"> (625, 2048)</text>\n",
       "</g>\n",
       "<!-- 133102853926288&#45;&gt;133102852680256 -->\n",
       "<g id=\"edge33\" class=\"edge\">\n",
       "<title>133102853926288&#45;&gt;133102852680256</title>\n",
       "<path fill=\"none\" stroke=\"black\" d=\"M583.91,-310.75C582.9,-301.39 581.59,-289.19 580.51,-279.16\"/>\n",
       "<polygon fill=\"black\" stroke=\"black\" points=\"583.97,-278.59 579.42,-269.02 577.01,-279.34 583.97,-278.59\"/>\n",
       "</g>\n",
       "<!-- 133102852685200 -->\n",
       "<g id=\"node36\" class=\"node\">\n",
       "<title>133102852685200</title>\n",
       "<polygon fill=\"lightgrey\" stroke=\"black\" points=\"652,-141 575,-141 575,-122 652,-122 652,-141\"/>\n",
       "<text text-anchor=\"middle\" x=\"613.5\" y=\"-129\" font-family=\"monospace\" font-size=\"10.00\">TBackward0</text>\n",
       "</g>\n",
       "<!-- 133102852685200&#45;&gt;133102852684096 -->\n",
       "<g id=\"edge34\" class=\"edge\">\n",
       "<title>133102852685200&#45;&gt;133102852684096</title>\n",
       "<path fill=\"none\" stroke=\"black\" d=\"M586.51,-121.98C558.3,-113.09 513.86,-99.07 482.42,-89.15\"/>\n",
       "<polygon fill=\"black\" stroke=\"black\" points=\"483.29,-85.75 472.7,-86.08 481.19,-92.43 483.29,-85.75\"/>\n",
       "</g>\n",
       "<!-- 133102852680640 -->\n",
       "<g id=\"node37\" class=\"node\">\n",
       "<title>133102852680640</title>\n",
       "<polygon fill=\"lightgrey\" stroke=\"black\" points=\"736,-202 635,-202 635,-183 736,-183 736,-202\"/>\n",
       "<text text-anchor=\"middle\" x=\"685.5\" y=\"-190\" font-family=\"monospace\" font-size=\"10.00\">AccumulateGrad</text>\n",
       "</g>\n",
       "<!-- 133102852680640&#45;&gt;133102852685200 -->\n",
       "<g id=\"edge35\" class=\"edge\">\n",
       "<title>133102852680640&#45;&gt;133102852685200</title>\n",
       "<path fill=\"none\" stroke=\"black\" d=\"M674.88,-182.79C663.6,-173.56 645.58,-158.78 631.97,-147.63\"/>\n",
       "<polygon fill=\"black\" stroke=\"black\" points=\"634.12,-144.87 624.17,-141.24 629.68,-150.29 634.12,-144.87\"/>\n",
       "</g>\n",
       "<!-- 133103025919120 -->\n",
       "<g id=\"node38\" class=\"node\">\n",
       "<title>133103025919120</title>\n",
       "<polygon fill=\"lightblue\" stroke=\"black\" points=\"724,-275 647,-275 647,-244 724,-244 724,-275\"/>\n",
       "<text text-anchor=\"middle\" x=\"685.5\" y=\"-251\" font-family=\"monospace\" font-size=\"10.00\"> (10, 625)</text>\n",
       "</g>\n",
       "<!-- 133103025919120&#45;&gt;133102852680640 -->\n",
       "<g id=\"edge36\" class=\"edge\">\n",
       "<title>133103025919120&#45;&gt;133102852680640</title>\n",
       "<path fill=\"none\" stroke=\"black\" d=\"M685.5,-243.75C685.5,-234.39 685.5,-222.19 685.5,-212.16\"/>\n",
       "<polygon fill=\"black\" stroke=\"black\" points=\"689,-212.02 685.5,-202.02 682,-212.02 689,-212.02\"/>\n",
       "</g>\n",
       "</g>\n",
       "</svg>\n"
      ],
      "text/plain": [
       "<graphviz.graphs.Digraph at 0x790e6c40b070>"
      ]
     },
     "execution_count": 11,
     "metadata": {},
     "output_type": "execute_result"
    }
   ],
   "source": [
    "# visualize the classifier\n",
    "c_temp = CNNClassifier().to(DEVICE)\n",
    "# to visualize with torchviz, we need some input that can pass through the model's forward() method.\n",
    "predictions = c_temp(x_batch.to(DEVICE))\n",
    "print('Predictions:\\n', predictions)\n",
    "predicted_labels = predictions.argmax(dim=1,\n",
    "                                      keepdim=False)  # get the index of the max log-probability\n",
    "print('Predicted Labels:\\n', predicted_labels)\n",
    "\n",
    "make_dot(predictions)"
   ]
  },
  {
   "cell_type": "markdown",
   "id": "b8226b58-ecfd-4803-b2fc-596d78f72817",
   "metadata": {
    "id": "b8226b58-ecfd-4803-b2fc-596d78f72817"
   },
   "source": [
    "## Training"
   ]
  },
  {
   "cell_type": "code",
   "execution_count": 12,
   "id": "6846e1a8-e39e-43cd-97e9-3c5415a531f3",
   "metadata": {
    "id": "6846e1a8-e39e-43cd-97e9-3c5415a531f3"
   },
   "outputs": [],
   "source": [
    "DISPLAY_EVERY_N_STEPS = 10\n",
    "LEARNING_RATE = 0.001\n",
    "\n",
    "classifier = CNNClassifier().to(DEVICE)\n",
    "loss_fn = nn.CrossEntropyLoss()\n",
    "optimizer = torch.optim.Adam(classifier.parameters(),\n",
    "                             lr = LEARNING_RATE)"
   ]
  },
  {
   "cell_type": "code",
   "execution_count": 13,
   "id": "8b3c0121-c270-453b-a017-7a8d6cdaa709",
   "metadata": {
    "id": "8b3c0121-c270-453b-a017-7a8d6cdaa709"
   },
   "outputs": [],
   "source": [
    "def get_accuracy(pred_logits, targets) -> float:\n",
    "    # pred_logits: [10000, 10] torch.float32\n",
    "    # targets: [10000] torch.int64\n",
    "\n",
    "    pred_labels = torch.argmax(pred_logits,\n",
    "                               dim=1)  # [10000] torch.int64\n",
    "    correct = (pred_labels == targets)  # [10000] torch.bool\n",
    "    count_correct = correct.sum()  # []\n",
    "\n",
    "    accuracy_ = count_correct / len(correct)  # [] torch.float32\n",
    "    accuracy = accuracy_.item()  # 'float', e.g. 0.9630000114440918 (--> 9.6%)\n",
    "    return accuracy"
   ]
  },
  {
   "cell_type": "code",
   "execution_count": 16,
   "id": "42479bc0-e113-4984-8de1-c48b69c4428b",
   "metadata": {
    "colab": {
     "base_uri": "https://localhost:8080/",
     "height": 943,
     "referenced_widgets": [
      "20402ef7cc40486796da572fe085fb58",
      "e0de86604348441eaf962db1b7f24365",
      "3a3e3de9dbfe44149d1b9be98a24bb1c",
      "3212b0372b2d49228fd94397ddbd64c3",
      "926832f263ef4cdd9dee0d77dde4e01a",
      "44d4a637a2a845d48b69a98d125e77fb",
      "627ad7e9792a4340b21dc71bf7deaaad",
      "7dc27baa80c44c049f7968e19eb4616f",
      "4c711091d1724b12b96d5d2dcc5fd2b1",
      "c6a0fbfc63c5461cb40b0e4a093d76a1",
      "6200f3795cbb4fec8097faa3900765f4"
     ]
    },
    "id": "42479bc0-e113-4984-8de1-c48b69c4428b",
    "outputId": "d0a60f95-3cdf-48d9-c783-66a17f86fc0a",
    "scrolled": true
   },
   "outputs": [
    {
     "data": {
      "application/vnd.jupyter.widget-view+json": {
       "model_id": "20402ef7cc40486796da572fe085fb58",
       "version_major": 2,
       "version_minor": 0
      },
      "text/plain": [
       "  0%|          | 0/100 [00:00<?, ?it/s]"
      ]
     },
     "metadata": {},
     "output_type": "display_data"
    },
    {
     "name": "stdout",
     "output_type": "stream",
     "text": [
      "Accuracy Train in epoch 0 / batch 0: 0.203125\n",
      "Accuracy Test in epoch 0 / batch 0: 0.20749999582767487\n",
      "\n",
      "Accuracy Train in epoch 0 / batch 10: 0.4296875\n",
      "Accuracy Test in epoch 0 / batch 10: 0.6150000095367432\n",
      "\n",
      "Accuracy Train in epoch 0 / batch 20: 0.7109375\n",
      "Accuracy Test in epoch 0 / batch 20: 0.7763999700546265\n",
      "\n",
      "Accuracy Train in epoch 0 / batch 30: 0.6953125\n",
      "Accuracy Test in epoch 0 / batch 30: 0.8531999588012695\n",
      "\n",
      "Accuracy Train in epoch 0 / batch 40: 0.84375\n",
      "Accuracy Test in epoch 0 / batch 40: 0.8935999870300293\n",
      "\n",
      "Accuracy Train in epoch 0 / batch 50: 0.9140625\n",
      "Accuracy Test in epoch 0 / batch 50: 0.9196999669075012\n",
      "\n",
      "Accuracy Train in epoch 0 / batch 60: 0.875\n",
      "Accuracy Test in epoch 0 / batch 60: 0.9311999678611755\n",
      "\n",
      "Accuracy Train in epoch 0 / batch 70: 0.90625\n",
      "Accuracy Test in epoch 0 / batch 70: 0.941100001335144\n",
      "\n",
      "Accuracy Train in epoch 0 / batch 80: 0.859375\n",
      "Accuracy Test in epoch 0 / batch 80: 0.9478999972343445\n",
      "\n",
      "Accuracy Train in epoch 0 / batch 90: 0.921875\n",
      "Accuracy Test in epoch 0 / batch 90: 0.9562999606132507\n",
      "\n"
     ]
    },
    {
     "ename": "KeyboardInterrupt",
     "evalue": "ignored",
     "output_type": "error",
     "traceback": [
      "\u001b[0;31m---------------------------------------------------------------------------\u001b[0m",
      "\u001b[0;31mKeyboardInterrupt\u001b[0m                         Traceback (most recent call last)",
      "\u001b[0;32m<ipython-input-16-a9465e9a8df2>\u001b[0m in \u001b[0;36m<cell line: 7>\u001b[0;34m()\u001b[0m\n\u001b[1;32m      7\u001b[0m \u001b[0;32mfor\u001b[0m \u001b[0mepoch\u001b[0m \u001b[0;32min\u001b[0m \u001b[0mtqdm\u001b[0m\u001b[0;34m(\u001b[0m\u001b[0mrange\u001b[0m\u001b[0;34m(\u001b[0m\u001b[0mNUM_EPOCHS\u001b[0m\u001b[0;34m)\u001b[0m\u001b[0;34m)\u001b[0m\u001b[0;34m:\u001b[0m\u001b[0;34m\u001b[0m\u001b[0;34m\u001b[0m\u001b[0m\n\u001b[1;32m      8\u001b[0m \u001b[0;34m\u001b[0m\u001b[0m\n\u001b[0;32m----> 9\u001b[0;31m     \u001b[0;32mfor\u001b[0m \u001b[0mbatch\u001b[0m\u001b[0;34m,\u001b[0m \u001b[0;34m(\u001b[0m\u001b[0mx_train_batch\u001b[0m\u001b[0;34m,\u001b[0m \u001b[0my_train_batch\u001b[0m\u001b[0;34m)\u001b[0m \u001b[0;32min\u001b[0m \u001b[0menumerate\u001b[0m\u001b[0;34m(\u001b[0m\u001b[0mtrain_loader\u001b[0m\u001b[0;34m)\u001b[0m\u001b[0;34m:\u001b[0m\u001b[0;34m\u001b[0m\u001b[0;34m\u001b[0m\u001b[0m\n\u001b[0m\u001b[1;32m     10\u001b[0m         \u001b[0;31m# x_train_batch: [128, 1, 28, 28] torch.float32\u001b[0m\u001b[0;34m\u001b[0m\u001b[0;34m\u001b[0m\u001b[0m\n\u001b[1;32m     11\u001b[0m         \u001b[0;31m# y_train_batch: [128] torch.int64\u001b[0m\u001b[0;34m\u001b[0m\u001b[0;34m\u001b[0m\u001b[0m\n",
      "\u001b[0;32m/usr/local/lib/python3.10/dist-packages/torch/utils/data/dataloader.py\u001b[0m in \u001b[0;36m__next__\u001b[0;34m(self)\u001b[0m\n\u001b[1;32m    631\u001b[0m                 \u001b[0;31m# TODO(https://github.com/pytorch/pytorch/issues/76750)\u001b[0m\u001b[0;34m\u001b[0m\u001b[0;34m\u001b[0m\u001b[0m\n\u001b[1;32m    632\u001b[0m                 \u001b[0mself\u001b[0m\u001b[0;34m.\u001b[0m\u001b[0m_reset\u001b[0m\u001b[0;34m(\u001b[0m\u001b[0;34m)\u001b[0m  \u001b[0;31m# type: ignore[call-arg]\u001b[0m\u001b[0;34m\u001b[0m\u001b[0;34m\u001b[0m\u001b[0m\n\u001b[0;32m--> 633\u001b[0;31m             \u001b[0mdata\u001b[0m \u001b[0;34m=\u001b[0m \u001b[0mself\u001b[0m\u001b[0;34m.\u001b[0m\u001b[0m_next_data\u001b[0m\u001b[0;34m(\u001b[0m\u001b[0;34m)\u001b[0m\u001b[0;34m\u001b[0m\u001b[0;34m\u001b[0m\u001b[0m\n\u001b[0m\u001b[1;32m    634\u001b[0m             \u001b[0mself\u001b[0m\u001b[0;34m.\u001b[0m\u001b[0m_num_yielded\u001b[0m \u001b[0;34m+=\u001b[0m \u001b[0;36m1\u001b[0m\u001b[0;34m\u001b[0m\u001b[0;34m\u001b[0m\u001b[0m\n\u001b[1;32m    635\u001b[0m             \u001b[0;32mif\u001b[0m \u001b[0mself\u001b[0m\u001b[0;34m.\u001b[0m\u001b[0m_dataset_kind\u001b[0m \u001b[0;34m==\u001b[0m \u001b[0m_DatasetKind\u001b[0m\u001b[0;34m.\u001b[0m\u001b[0mIterable\u001b[0m \u001b[0;32mand\u001b[0m\u001b[0;31m \u001b[0m\u001b[0;31m\\\u001b[0m\u001b[0;34m\u001b[0m\u001b[0;34m\u001b[0m\u001b[0m\n",
      "\u001b[0;32m/usr/local/lib/python3.10/dist-packages/torch/utils/data/dataloader.py\u001b[0m in \u001b[0;36m_next_data\u001b[0;34m(self)\u001b[0m\n\u001b[1;32m    675\u001b[0m     \u001b[0;32mdef\u001b[0m \u001b[0m_next_data\u001b[0m\u001b[0;34m(\u001b[0m\u001b[0mself\u001b[0m\u001b[0;34m)\u001b[0m\u001b[0;34m:\u001b[0m\u001b[0;34m\u001b[0m\u001b[0;34m\u001b[0m\u001b[0m\n\u001b[1;32m    676\u001b[0m         \u001b[0mindex\u001b[0m \u001b[0;34m=\u001b[0m \u001b[0mself\u001b[0m\u001b[0;34m.\u001b[0m\u001b[0m_next_index\u001b[0m\u001b[0;34m(\u001b[0m\u001b[0;34m)\u001b[0m  \u001b[0;31m# may raise StopIteration\u001b[0m\u001b[0;34m\u001b[0m\u001b[0;34m\u001b[0m\u001b[0m\n\u001b[0;32m--> 677\u001b[0;31m         \u001b[0mdata\u001b[0m \u001b[0;34m=\u001b[0m \u001b[0mself\u001b[0m\u001b[0;34m.\u001b[0m\u001b[0m_dataset_fetcher\u001b[0m\u001b[0;34m.\u001b[0m\u001b[0mfetch\u001b[0m\u001b[0;34m(\u001b[0m\u001b[0mindex\u001b[0m\u001b[0;34m)\u001b[0m  \u001b[0;31m# may raise StopIteration\u001b[0m\u001b[0;34m\u001b[0m\u001b[0;34m\u001b[0m\u001b[0m\n\u001b[0m\u001b[1;32m    678\u001b[0m         \u001b[0;32mif\u001b[0m \u001b[0mself\u001b[0m\u001b[0;34m.\u001b[0m\u001b[0m_pin_memory\u001b[0m\u001b[0;34m:\u001b[0m\u001b[0;34m\u001b[0m\u001b[0;34m\u001b[0m\u001b[0m\n\u001b[1;32m    679\u001b[0m             \u001b[0mdata\u001b[0m \u001b[0;34m=\u001b[0m \u001b[0m_utils\u001b[0m\u001b[0;34m.\u001b[0m\u001b[0mpin_memory\u001b[0m\u001b[0;34m.\u001b[0m\u001b[0mpin_memory\u001b[0m\u001b[0;34m(\u001b[0m\u001b[0mdata\u001b[0m\u001b[0;34m,\u001b[0m \u001b[0mself\u001b[0m\u001b[0;34m.\u001b[0m\u001b[0m_pin_memory_device\u001b[0m\u001b[0;34m)\u001b[0m\u001b[0;34m\u001b[0m\u001b[0;34m\u001b[0m\u001b[0m\n",
      "\u001b[0;32m/usr/local/lib/python3.10/dist-packages/torch/utils/data/_utils/fetch.py\u001b[0m in \u001b[0;36mfetch\u001b[0;34m(self, possibly_batched_index)\u001b[0m\n\u001b[1;32m     49\u001b[0m                 \u001b[0mdata\u001b[0m \u001b[0;34m=\u001b[0m \u001b[0mself\u001b[0m\u001b[0;34m.\u001b[0m\u001b[0mdataset\u001b[0m\u001b[0;34m.\u001b[0m\u001b[0m__getitems__\u001b[0m\u001b[0;34m(\u001b[0m\u001b[0mpossibly_batched_index\u001b[0m\u001b[0;34m)\u001b[0m\u001b[0;34m\u001b[0m\u001b[0;34m\u001b[0m\u001b[0m\n\u001b[1;32m     50\u001b[0m             \u001b[0;32melse\u001b[0m\u001b[0;34m:\u001b[0m\u001b[0;34m\u001b[0m\u001b[0;34m\u001b[0m\u001b[0m\n\u001b[0;32m---> 51\u001b[0;31m                 \u001b[0mdata\u001b[0m \u001b[0;34m=\u001b[0m \u001b[0;34m[\u001b[0m\u001b[0mself\u001b[0m\u001b[0;34m.\u001b[0m\u001b[0mdataset\u001b[0m\u001b[0;34m[\u001b[0m\u001b[0midx\u001b[0m\u001b[0;34m]\u001b[0m \u001b[0;32mfor\u001b[0m \u001b[0midx\u001b[0m \u001b[0;32min\u001b[0m \u001b[0mpossibly_batched_index\u001b[0m\u001b[0;34m]\u001b[0m\u001b[0;34m\u001b[0m\u001b[0;34m\u001b[0m\u001b[0m\n\u001b[0m\u001b[1;32m     52\u001b[0m         \u001b[0;32melse\u001b[0m\u001b[0;34m:\u001b[0m\u001b[0;34m\u001b[0m\u001b[0;34m\u001b[0m\u001b[0m\n\u001b[1;32m     53\u001b[0m             \u001b[0mdata\u001b[0m \u001b[0;34m=\u001b[0m \u001b[0mself\u001b[0m\u001b[0;34m.\u001b[0m\u001b[0mdataset\u001b[0m\u001b[0;34m[\u001b[0m\u001b[0mpossibly_batched_index\u001b[0m\u001b[0;34m]\u001b[0m\u001b[0;34m\u001b[0m\u001b[0;34m\u001b[0m\u001b[0m\n",
      "\u001b[0;32m/usr/local/lib/python3.10/dist-packages/torch/utils/data/_utils/fetch.py\u001b[0m in \u001b[0;36m<listcomp>\u001b[0;34m(.0)\u001b[0m\n\u001b[1;32m     49\u001b[0m                 \u001b[0mdata\u001b[0m \u001b[0;34m=\u001b[0m \u001b[0mself\u001b[0m\u001b[0;34m.\u001b[0m\u001b[0mdataset\u001b[0m\u001b[0;34m.\u001b[0m\u001b[0m__getitems__\u001b[0m\u001b[0;34m(\u001b[0m\u001b[0mpossibly_batched_index\u001b[0m\u001b[0;34m)\u001b[0m\u001b[0;34m\u001b[0m\u001b[0;34m\u001b[0m\u001b[0m\n\u001b[1;32m     50\u001b[0m             \u001b[0;32melse\u001b[0m\u001b[0;34m:\u001b[0m\u001b[0;34m\u001b[0m\u001b[0;34m\u001b[0m\u001b[0m\n\u001b[0;32m---> 51\u001b[0;31m                 \u001b[0mdata\u001b[0m \u001b[0;34m=\u001b[0m \u001b[0;34m[\u001b[0m\u001b[0mself\u001b[0m\u001b[0;34m.\u001b[0m\u001b[0mdataset\u001b[0m\u001b[0;34m[\u001b[0m\u001b[0midx\u001b[0m\u001b[0;34m]\u001b[0m \u001b[0;32mfor\u001b[0m \u001b[0midx\u001b[0m \u001b[0;32min\u001b[0m \u001b[0mpossibly_batched_index\u001b[0m\u001b[0;34m]\u001b[0m\u001b[0;34m\u001b[0m\u001b[0;34m\u001b[0m\u001b[0m\n\u001b[0m\u001b[1;32m     52\u001b[0m         \u001b[0;32melse\u001b[0m\u001b[0;34m:\u001b[0m\u001b[0;34m\u001b[0m\u001b[0;34m\u001b[0m\u001b[0m\n\u001b[1;32m     53\u001b[0m             \u001b[0mdata\u001b[0m \u001b[0;34m=\u001b[0m \u001b[0mself\u001b[0m\u001b[0;34m.\u001b[0m\u001b[0mdataset\u001b[0m\u001b[0;34m[\u001b[0m\u001b[0mpossibly_batched_index\u001b[0m\u001b[0;34m]\u001b[0m\u001b[0;34m\u001b[0m\u001b[0;34m\u001b[0m\u001b[0m\n",
      "\u001b[0;32m/usr/local/lib/python3.10/dist-packages/torchvision/datasets/mnist.py\u001b[0m in \u001b[0;36m__getitem__\u001b[0;34m(self, index)\u001b[0m\n\u001b[1;32m    140\u001b[0m         \u001b[0;31m# doing this so that it is consistent with all other datasets\u001b[0m\u001b[0;34m\u001b[0m\u001b[0;34m\u001b[0m\u001b[0m\n\u001b[1;32m    141\u001b[0m         \u001b[0;31m# to return a PIL Image\u001b[0m\u001b[0;34m\u001b[0m\u001b[0;34m\u001b[0m\u001b[0m\n\u001b[0;32m--> 142\u001b[0;31m         \u001b[0mimg\u001b[0m \u001b[0;34m=\u001b[0m \u001b[0mImage\u001b[0m\u001b[0;34m.\u001b[0m\u001b[0mfromarray\u001b[0m\u001b[0;34m(\u001b[0m\u001b[0mimg\u001b[0m\u001b[0;34m.\u001b[0m\u001b[0mnumpy\u001b[0m\u001b[0;34m(\u001b[0m\u001b[0;34m)\u001b[0m\u001b[0;34m,\u001b[0m \u001b[0mmode\u001b[0m\u001b[0;34m=\u001b[0m\u001b[0;34m\"L\"\u001b[0m\u001b[0;34m)\u001b[0m\u001b[0;34m\u001b[0m\u001b[0;34m\u001b[0m\u001b[0m\n\u001b[0m\u001b[1;32m    143\u001b[0m \u001b[0;34m\u001b[0m\u001b[0m\n\u001b[1;32m    144\u001b[0m         \u001b[0;32mif\u001b[0m \u001b[0mself\u001b[0m\u001b[0;34m.\u001b[0m\u001b[0mtransform\u001b[0m \u001b[0;32mis\u001b[0m \u001b[0;32mnot\u001b[0m \u001b[0;32mNone\u001b[0m\u001b[0;34m:\u001b[0m\u001b[0;34m\u001b[0m\u001b[0;34m\u001b[0m\u001b[0m\n",
      "\u001b[0;31mKeyboardInterrupt\u001b[0m: "
     ]
    }
   ],
   "source": [
    "total_steps = NUM_EPOCHS * len(train_loader.dataset)\n",
    "loss_history = []\n",
    "accuracy_train_history = []\n",
    "accuracy_test_history = []\n",
    "current_step = 0\n",
    "\n",
    "for epoch in tqdm(range(NUM_EPOCHS)):\n",
    "\n",
    "    for batch, (x_train_batch, y_train_batch) in enumerate(train_loader):\n",
    "        # x_train_batch: [128, 1, 28, 28] torch.float32\n",
    "        # y_train_batch: [128] torch.int64\n",
    "\n",
    "        x_train_batch = x_train_batch.to(DEVICE)\n",
    "        y_train_batch = y_train_batch.to(DEVICE)\n",
    "\n",
    "        # switch to training mode mode (we might have been in evaluation mode)\n",
    "        classifier.train()\n",
    "\n",
    "        pred_train_batch = classifier(x_train_batch)  # [128, 10]\n",
    "\n",
    "        # clear existing gradients from previous batch\n",
    "        optimizer.zero_grad()\n",
    "\n",
    "        loss = loss_fn(pred_train_batch,\n",
    "                       y_train_batch)  # [], .item() is e.g. 2.291177988052368\n",
    "        loss_history.append(loss.item())\n",
    "\n",
    "        # compute gradients (backpropagation), then apply gradients\n",
    "        loss.backward()\n",
    "        optimizer.step()\n",
    "\n",
    "        # switch to evaluation mode, then evaluate without computing gradients\n",
    "        classifier.eval()\n",
    "        with torch.no_grad():\n",
    "            pred_test = classifier(x_test.to(DEVICE))  # [10000, 10] torch.float32\n",
    "            accuracy_test = get_accuracy(pred_logits=pred_test,\n",
    "                                         targets=y_test.to(DEVICE))\n",
    "            accuracy_test_history.append(accuracy_test)\n",
    "\n",
    "            accuracy_train = get_accuracy(pred_logits=pred_train_batch,\n",
    "                                          targets=y_train_batch)\n",
    "            accuracy_train_history.append(accuracy_train)\n",
    "\n",
    "        if current_step % DISPLAY_EVERY_N_STEPS == 0:\n",
    "            print(f'Accuracy Train in epoch {epoch} / batch {batch}: {accuracy_train}')\n",
    "            print(f'Accuracy Test in epoch {epoch} / batch {batch}: {accuracy_test}\\n')\n",
    "\n",
    "        current_step += 1"
   ]
  },
  {
   "cell_type": "markdown",
   "id": "4a26f795-ed8d-4806-a726-ea3c31932b3c",
   "metadata": {
    "id": "4a26f795-ed8d-4806-a726-ea3c31932b3c"
   },
   "source": [
    "## Visualization of Accuracy and Loss"
   ]
  },
  {
   "cell_type": "code",
   "execution_count": 17,
   "id": "721cb247-7a71-4441-b66c-8cffd3b00c2e",
   "metadata": {
    "colab": {
     "base_uri": "https://localhost:8080/",
     "height": 645
    },
    "id": "721cb247-7a71-4441-b66c-8cffd3b00c2e",
    "outputId": "6ee1bf3d-ea03-42c2-bca9-dea938feb9fc"
   },
   "outputs": [
    {
     "data": {
      "text/plain": [
       "Text(0.5, 0, 'steps')"
      ]
     },
     "execution_count": 17,
     "metadata": {},
     "output_type": "execute_result"
    },
    {
     "data": {
      "image/png": "[encoded data removed]",
      "text/plain": [
       "<Figure size 2000x700 with 2 Axes>"
      ]
     },
     "metadata": {},
     "output_type": "display_data"
    }
   ],
   "source": [
    "fig, (ax1, ax2) = plt.subplots(2, figsize=(20, 7), sharex=True)\n",
    "\n",
    "ax1.set_title(\"Accuracy During Training\")\n",
    "ax1.plot(accuracy_train_history, label='train')\n",
    "ax1.set_ylabel(\"accuracy\")\n",
    "ax1.plot(accuracy_test_history, label='test')\n",
    "ax1.set_ylabel(\"accuracy\")\n",
    "ax1.legend()\n",
    "\n",
    "ax2.set_title(\"Loss During Training\")\n",
    "ax2.plot(loss_history)\n",
    "ax2.set_ylabel(\"train loss\")\n",
    "ax2.set_xlabel(\"steps\")"
   ]
  },
  {
   "cell_type": "markdown",
   "id": "86ef8fc9-4c4f-481f-ae7d-27cada9d49ef",
   "metadata": {
    "id": "86ef8fc9-4c4f-481f-ae7d-27cada9d49ef"
   },
   "source": [
    "## Visualization of CNN Layers"
   ]
  },
  {
   "cell_type": "code",
   "execution_count": 18,
   "id": "4d81f195-4a6b-4de2-a03e-e9c71b551559",
   "metadata": {
    "colab": {
     "base_uri": "https://localhost:8080/",
     "height": 447
    },
    "id": "4d81f195-4a6b-4de2-a03e-e9c71b551559",
    "outputId": "9a8af4bf-bef8-4790-9238-f0dbc9ed0d7c"
   },
   "outputs": [
    {
     "data": {
      "text/plain": [
       "<matplotlib.image.AxesImage at 0x790e62ea06d0>"
      ]
     },
     "execution_count": 18,
     "metadata": {},
     "output_type": "execute_result"
    },
    {
     "data": {
      "image/png": "[encoded data removed]",
      "text/plain": [
       "<Figure size 640x480 with 1 Axes>"
      ]
     },
     "metadata": {},
     "output_type": "display_data"
    }
   ],
   "source": [
    "# let's look at an example image from the test dataset:\n",
    "# classifier(x_test)  # [10000, 10] torch.float32\n",
    "n_example = 50\n",
    "x_example = x_test[n_example].detach()  # (1, 28, 28)\n",
    "x_example_as_batch = x_example.unsqueeze(0)  # [1, 1, 28, 28]\n",
    "x_example_as_image = x_example[0]  # (28, 28)\n",
    "\n",
    "y_example = y_test[n_example].detach()  # e.g. tensor(0)\n",
    "plt.imshow(x_example_as_image, cmap='gray')"
   ]
  },
  {
   "cell_type": "code",
   "execution_count": 23,
   "id": "89e2475b-c025-4019-bbe9-122de8718596",
   "metadata": {
    "colab": {
     "base_uri": "https://localhost:8080/"
    },
    "id": "89e2475b-c025-4019-bbe9-122de8718596",
    "outputId": "92445aec-5219-4191-c006-d6248bad0b7f"
   },
   "outputs": [
    {
     "name": "stdout",
     "output_type": "stream",
     "text": [
      "0:  2.33\n",
      "1:  0.87\n",
      "2:  0.79\n",
      "3: -0.96\n",
      "4: -0.83\n",
      "5:  0.87\n",
      "6:  9.03\n",
      "7: -6.31\n",
      "8: -0.17\n",
      "9: -3.75\n"
     ]
    }
   ],
   "source": [
    "# the final prediction is...\n",
    "classifier.eval()\n",
    "with torch.no_grad():\n",
    "    predicted_logits = classifier(x_example_as_batch.to(DEVICE))  # [1, 10]\n",
    "    for i in range(10):\n",
    "        print(f'{i}: {round(predicted_logits[0][i].item(), 2) :5}')"
   ]
  },
  {
   "cell_type": "markdown",
   "id": "97ef96c4-23c2-43e7-97b1-906f709467ee",
   "metadata": {
    "id": "97ef96c4-23c2-43e7-97b1-906f709467ee"
   },
   "source": [
    "### Show the outputs of CNN Layer 1"
   ]
  },
  {
   "cell_type": "code",
   "execution_count": 28,
   "id": "24d69dfc-df4d-4922-afd1-cec4c9037ce4",
   "metadata": {
    "colab": {
     "base_uri": "https://localhost:8080/",
     "height": 654
    },
    "id": "24d69dfc-df4d-4922-afd1-cec4c9037ce4",
    "outputId": "c1d13fe0-cd45-4e19-c266-5ed759f83aac"
   },
   "outputs": [
    {
     "data": {
      "image/png": "[encoded data removed]",
      "text/plain": [
       "<Figure size 2500x1000 with 32 Axes>"
      ]
     },
     "metadata": {},
     "output_type": "display_data"
    }
   ],
   "source": [
    "output_layer_1 = classifier.layer1(\n",
    "    x_example_as_batch.to(DEVICE)\n",
    "    ).detach()  # 1, 32, 14, 14\n",
    "\n",
    "fig = plt.figure(figsize=(25, 10))  # (width, height) in inches\n",
    "for i in range(32):\n",
    "    ax = fig.add_subplot(4,         # nrows\n",
    "                 10,        # ncols\n",
    "                 i+1,       # index (1-based)\n",
    "                 xticks=[],\n",
    "                 yticks=[])\n",
    "    image = output_layer_1[0][i]  # (14, 14)\n",
    "    ax.imshow(X=image.cpu(),\n",
    "              cmap='gray')"
   ]
  },
  {
   "cell_type": "markdown",
   "id": "abc483b0-4a95-4443-84d5-db3138a2f616",
   "metadata": {
    "id": "abc483b0-4a95-4443-84d5-db3138a2f616"
   },
   "source": [
    "### Show the outputs of CNN Layer 2"
   ]
  },
  {
   "cell_type": "code",
   "execution_count": 29,
   "id": "4cecabc7-f944-494f-9fbe-24643d4280f7",
   "metadata": {
    "colab": {
     "base_uri": "https://localhost:8080/",
     "height": 343
    },
    "id": "4cecabc7-f944-494f-9fbe-24643d4280f7",
    "outputId": "362795b9-0ab0-4686-ebb1-afd5577eb75f"
   },
   "outputs": [
    {
     "data": {
      "image/png": "[encoded data removed]",
      "text/plain": [
       "<Figure size 2500x500 with 64 Axes>"
      ]
     },
     "metadata": {},
     "output_type": "display_data"
    }
   ],
   "source": [
    "output_layer_2 = classifier.layer2(output_layer_1.to(DEVICE)).detach()  # [1, 64, 7, 7]\n",
    "\n",
    "fig = plt.figure(figsize=(25, 5))  # (width, height) in inches\n",
    "for i in range(64):\n",
    "    ax = fig.add_subplot(\n",
    "                 4,         # nrows\n",
    "                 20,        # ncols\n",
    "                 i+1,       # index (1-based)\n",
    "                 xticks=[],\n",
    "                 yticks=[])\n",
    "    image = output_layer_2[0][i]  # (7, 7)\n",
    "    ax.imshow(X=image.cpu(),\n",
    "              cmap='gray')"
   ]
  },
  {
   "cell_type": "markdown",
   "id": "6440edfb-98e1-4858-b972-548430104c32",
   "metadata": {
    "id": "6440edfb-98e1-4858-b972-548430104c32"
   },
   "source": [
    "### Show the outputs of CNN Layer 3"
   ]
  },
  {
   "cell_type": "code",
   "execution_count": 30,
   "id": "25f9ddeb-066a-47f9-ad29-b709207e9bfb",
   "metadata": {
    "colab": {
     "base_uri": "https://localhost:8080/",
     "height": 352
    },
    "id": "25f9ddeb-066a-47f9-ad29-b709207e9bfb",
    "outputId": "4defba48-4be9-49f4-8fbd-1681c574ccd1"
   },
   "outputs": [
    {
     "name": "stdout",
     "output_type": "stream",
     "text": [
      "torch.Size([1, 128, 4, 4])\n"
     ]
    },
    {
     "data": {
      "image/png": "[encoded data removed]",
      "text/plain": [
       "<Figure size 2500x500 with 128 Axes>"
      ]
     },
     "metadata": {},
     "output_type": "display_data"
    }
   ],
   "source": [
    "output_layer_3 = classifier.layer3(output_layer_2.to(DEVICE)).detach()  # [1, 128, 4, 4]\n",
    "print(output_layer_3.shape)\n",
    "\n",
    "fig = plt.figure(figsize=(25, 5))  # (width, height) in inches\n",
    "for i in range(128):\n",
    "    ax = fig.add_subplot(\n",
    "                 5,         # nrows\n",
    "                 30,        # ncols\n",
    "                 i+1,       # index (1-based)\n",
    "                 xticks=[],\n",
    "                 yticks=[])\n",
    "    image = output_layer_3[0][i]  # (28, 28)\n",
    "    ax.imshow(X=image.cpu(),\n",
    "              cmap='gray')"
   ]
  },
  {
   "cell_type": "code",
   "execution_count": 22,
   "id": "2548b830-0b64-4538-bbb4-0a285d5b0c9b",
   "metadata": {
    "id": "2548b830-0b64-4538-bbb4-0a285d5b0c9b"
   },
   "outputs": [],
   "source": []
  }
 ],
 "metadata": {
  "accelerator": "GPU",
  "colab": {
   "gpuType": "T4",
   "provenance": []
  },
  "kernelspec": {
   "display_name": "Python 3 (ipykernel)",
   "language": "python",
   "name": "python3"
  },
  "language_info": {
   "codemirror_mode": {
    "name": "ipython",
    "version": 3
   },
   "file_extension": ".py",
   "mimetype": "text/x-python",
   "name": "python",
   "nbconvert_exporter": "python",
   "pygments_lexer": "ipython3",
   "version": "3.11.4"
  },
  "widgets": {
   "application/vnd.jupyter.widget-state+json": {
    "20402ef7cc40486796da572fe085fb58": {
     "model_module": "@jupyter-widgets/controls",
     "model_module_version": "1.5.0",
     "model_name": "HBoxModel",
     "state": {
      "_dom_classes": [],
      "_model_module": "@jupyter-widgets/controls",
      "_model_module_version": "1.5.0",
      "_model_name": "HBoxModel",
      "_view_count": null,
      "_view_module": "@jupyter-widgets/controls",
      "_view_module_version": "1.5.0",
      "_view_name": "HBoxView",
      "box_style": "",
      "children": [
       "IPY_MODEL_e0de86604348441eaf962db1b7f24365",
       "IPY_MODEL_3a3e3de9dbfe44149d1b9be98a24bb1c",
       "IPY_MODEL_3212b0372b2d49228fd94397ddbd64c3"
      ],
      "layout": "IPY_MODEL_926832f263ef4cdd9dee0d77dde4e01a"
     }
    },
    "3212b0372b2d49228fd94397ddbd64c3": {
     "model_module": "@jupyter-widgets/controls",
     "model_module_version": "1.5.0",
     "model_name": "HTMLModel",
     "state": {
      "_dom_classes": [],
      "_model_module": "@jupyter-widgets/controls",
      "_model_module_version": "1.5.0",
      "_model_name": "HTMLModel",
      "_view_count": null,
      "_view_module": "@jupyter-widgets/controls",
      "_view_module_version": "1.5.0",
      "_view_name": "HTMLView",
      "description": "",
      "description_tooltip": null,
      "layout": "IPY_MODEL_c6a0fbfc63c5461cb40b0e4a093d76a1",
      "placeholder": "​",
      "style": "IPY_MODEL_6200f3795cbb4fec8097faa3900765f4",
      "value": " 0/100 [00:11&lt;?, ?it/s]"
     }
    },
    "3a3e3de9dbfe44149d1b9be98a24bb1c": {
     "model_module": "@jupyter-widgets/controls",
     "model_module_version": "1.5.0",
     "model_name": "FloatProgressModel",
     "state": {
      "_dom_classes": [],
      "_model_module": "@jupyter-widgets/controls",
      "_model_module_version": "1.5.0",
      "_model_name": "FloatProgressModel",
      "_view_count": null,
      "_view_module": "@jupyter-widgets/controls",
      "_view_module_version": "1.5.0",
      "_view_name": "ProgressView",
      "bar_style": "danger",
      "description": "",
      "description_tooltip": null,
      "layout": "IPY_MODEL_7dc27baa80c44c049f7968e19eb4616f",
      "max": 100,
      "min": 0,
      "orientation": "horizontal",
      "style": "IPY_MODEL_4c711091d1724b12b96d5d2dcc5fd2b1",
      "value": 0
     }
    },
    "44d4a637a2a845d48b69a98d125e77fb": {
     "model_module": "@jupyter-widgets/base",
     "model_module_version": "1.2.0",
     "model_name": "LayoutModel",
     "state": {
      "_model_module": "@jupyter-widgets/base",
      "_model_module_version": "1.2.0",
      "_model_name": "LayoutModel",
      "_view_count": null,
      "_view_module": "@jupyter-widgets/base",
      "_view_module_version": "1.2.0",
      "_view_name": "LayoutView",
      "align_content": null,
      "align_items": null,
      "align_self": null,
      "border": null,
      "bottom": null,
      "display": null,
      "flex": null,
      "flex_flow": null,
      "grid_area": null,
      "grid_auto_columns": null,
      "grid_auto_flow": null,
      "grid_auto_rows": null,
      "grid_column": null,
      "grid_gap": null,
      "grid_row": null,
      "grid_template_areas": null,
      "grid_template_columns": null,
      "grid_template_rows": null,
      "height": null,
      "justify_content": null,
      "justify_items": null,
      "left": null,
      "margin": null,
      "max_height": null,
      "max_width": null,
      "min_height": null,
      "min_width": null,
      "object_fit": null,
      "object_position": null,
      "order": null,
      "overflow": null,
      "overflow_x": null,
      "overflow_y": null,
      "padding": null,
      "right": null,
      "top": null,
      "visibility": null,
      "width": null
     }
    },
    "4c711091d1724b12b96d5d2dcc5fd2b1": {
     "model_module": "@jupyter-widgets/controls",
     "model_module_version": "1.5.0",
     "model_name": "ProgressStyleModel",
     "state": {
      "_model_module": "@jupyter-widgets/controls",
      "_model_module_version": "1.5.0",
      "_model_name": "ProgressStyleModel",
      "_view_count": null,
      "_view_module": "@jupyter-widgets/base",
      "_view_module_version": "1.2.0",
      "_view_name": "StyleView",
      "bar_color": null,
      "description_width": ""
     }
    },
    "6200f3795cbb4fec8097faa3900765f4": {
     "model_module": "@jupyter-widgets/controls",
     "model_module_version": "1.5.0",
     "model_name": "DescriptionStyleModel",
     "state": {
      "_model_module": "@jupyter-widgets/controls",
      "_model_module_version": "1.5.0",
      "_model_name": "DescriptionStyleModel",
      "_view_count": null,
      "_view_module": "@jupyter-widgets/base",
      "_view_module_version": "1.2.0",
      "_view_name": "StyleView",
      "description_width": ""
     }
    },
    "627ad7e9792a4340b21dc71bf7deaaad": {
     "model_module": "@jupyter-widgets/controls",
     "model_module_version": "1.5.0",
     "model_name": "DescriptionStyleModel",
     "state": {
      "_model_module": "@jupyter-widgets/controls",
      "_model_module_version": "1.5.0",
      "_model_name": "DescriptionStyleModel",
      "_view_count": null,
      "_view_module": "@jupyter-widgets/base",
      "_view_module_version": "1.2.0",
      "_view_name": "StyleView",
      "description_width": ""
     }
    },
    "7dc27baa80c44c049f7968e19eb4616f": {
     "model_module": "@jupyter-widgets/base",
     "model_module_version": "1.2.0",
     "model_name": "LayoutModel",
     "state": {
      "_model_module": "@jupyter-widgets/base",
      "_model_module_version": "1.2.0",
      "_model_name": "LayoutModel",
      "_view_count": null,
      "_view_module": "@jupyter-widgets/base",
      "_view_module_version": "1.2.0",
      "_view_name": "LayoutView",
      "align_content": null,
      "align_items": null,
      "align_self": null,
      "border": null,
      "bottom": null,
      "display": null,
      "flex": null,
      "flex_flow": null,
      "grid_area": null,
      "grid_auto_columns": null,
      "grid_auto_flow": null,
      "grid_auto_rows": null,
      "grid_column": null,
      "grid_gap": null,
      "grid_row": null,
      "grid_template_areas": null,
      "grid_template_columns": null,
      "grid_template_rows": null,
      "height": null,
      "justify_content": null,
      "justify_items": null,
      "left": null,
      "margin": null,
      "max_height": null,
      "max_width": null,
      "min_height": null,
      "min_width": null,
      "object_fit": null,
      "object_position": null,
      "order": null,
      "overflow": null,
      "overflow_x": null,
      "overflow_y": null,
      "padding": null,
      "right": null,
      "top": null,
      "visibility": null,
      "width": null
     }
    },
    "926832f263ef4cdd9dee0d77dde4e01a": {
     "model_module": "@jupyter-widgets/base",
     "model_module_version": "1.2.0",
     "model_name": "LayoutModel",
     "state": {
      "_model_module": "@jupyter-widgets/base",
      "_model_module_version": "1.2.0",
      "_model_name": "LayoutModel",
      "_view_count": null,
      "_view_module": "@jupyter-widgets/base",
      "_view_module_version": "1.2.0",
      "_view_name": "LayoutView",
      "align_content": null,
      "align_items": null,
      "align_self": null,
      "border": null,
      "bottom": null,
      "display": null,
      "flex": null,
      "flex_flow": null,
      "grid_area": null,
      "grid_auto_columns": null,
      "grid_auto_flow": null,
      "grid_auto_rows": null,
      "grid_column": null,
      "grid_gap": null,
      "grid_row": null,
      "grid_template_areas": null,
      "grid_template_columns": null,
      "grid_template_rows": null,
      "height": null,
      "justify_content": null,
      "justify_items": null,
      "left": null,
      "margin": null,
      "max_height": null,
      "max_width": null,
      "min_height": null,
      "min_width": null,
      "object_fit": null,
      "object_position": null,
      "order": null,
      "overflow": null,
      "overflow_x": null,
      "overflow_y": null,
      "padding": null,
      "right": null,
      "top": null,
      "visibility": null,
      "width": null
     }
    },
    "c6a0fbfc63c5461cb40b0e4a093d76a1": {
     "model_module": "@jupyter-widgets/base",
     "model_module_version": "1.2.0",
     "model_name": "LayoutModel",
     "state": {
      "_model_module": "@jupyter-widgets/base",
      "_model_module_version": "1.2.0",
      "_model_name": "LayoutModel",
      "_view_count": null,
      "_view_module": "@jupyter-widgets/base",
      "_view_module_version": "1.2.0",
      "_view_name": "LayoutView",
      "align_content": null,
      "align_items": null,
      "align_self": null,
      "border": null,
      "bottom": null,
      "display": null,
      "flex": null,
      "flex_flow": null,
      "grid_area": null,
      "grid_auto_columns": null,
      "grid_auto_flow": null,
      "grid_auto_rows": null,
      "grid_column": null,
      "grid_gap": null,
      "grid_row": null,
      "grid_template_areas": null,
      "grid_template_columns": null,
      "grid_template_rows": null,
      "height": null,
      "justify_content": null,
      "justify_items": null,
      "left": null,
      "margin": null,
      "max_height": null,
      "max_width": null,
      "min_height": null,
      "min_width": null,
      "object_fit": null,
      "object_position": null,
      "order": null,
      "overflow": null,
      "overflow_x": null,
      "overflow_y": null,
      "padding": null,
      "right": null,
      "top": null,
      "visibility": null,
      "width": null
     }
    },
    "e0de86604348441eaf962db1b7f24365": {
     "model_module": "@jupyter-widgets/controls",
     "model_module_version": "1.5.0",
     "model_name": "HTMLModel",
     "state": {
      "_dom_classes": [],
      "_model_module": "@jupyter-widgets/controls",
      "_model_module_version": "1.5.0",
      "_model_name": "HTMLModel",
      "_view_count": null,
      "_view_module": "@jupyter-widgets/controls",
      "_view_module_version": "1.5.0",
      "_view_name": "HTMLView",
      "description": "",
      "description_tooltip": null,
      "layout": "IPY_MODEL_44d4a637a2a845d48b69a98d125e77fb",
      "placeholder": "​",
      "style": "IPY_MODEL_627ad7e9792a4340b21dc71bf7deaaad",
      "value": "  0%"
     }
    }
   }
  }
 },
 "nbformat": 4,
 "nbformat_minor": 5
}
