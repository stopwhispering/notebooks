{
 "cells": [
  {
   "cell_type": "markdown",
   "id": "89d542ff-4edf-4416-bc7e-f899c807b2b6",
   "metadata": {},
   "source": [
    "# PyTorch🔥Embeddings - Build Word2vec CBOW Model (wikitext2 Dataset)"
   ]
  },
  {
   "cell_type": "markdown",
   "id": "d05fc056-aa0f-493b-98f6-9cf1c7a2fa8b",
   "metadata": {},
   "source": [
    "Subject: Building a Word2vec-like CBOW Model to create embeddings for the dataset's words representing their near closeness to each other (in 100 embedding dimensions).\n",
    "\n",
    "Data: WikiText-2 via torchtext \n",
    "\n",
    "Procedure:\n",
    "- Tokenizing with torchtext.data.utils.get_tokenizer and nltk.corpus.stopwords\n",
    "- Creating contexts and targets from five words each: (01 34) with (2) as target\n",
    "- Tensorizing contexts and targets\n",
    "- Creating a vocabulary with torchtext.vocab.vocab\n",
    "- Creating a custom torch.utils.data.Dataset for a torch.utils.data.DataLoader\n",
    "- Word2vec-like CBOW model with torch.nn.module, torch.nn.Embedding, torch.nn.Linear, torch.nn.ReLU,  and torch.nn.LogSoftmax\n",
    "- Training with torch.nn.NLLLoss, torch.optim.SGD, and torch.optim.lr_scheduler.StepLR\n",
    "- Evaluation by finding some nearest words and playing with word vectors\n",
    "- Disappointing results (probably much more data required)\n",
    "\n",
    "Others:\n",
    "- CUDA support\n",
    "- working on Colab with Google Drive for saving/loading interim stages\n",
    "\n",
    "Sources used:\n",
    "- https://github.com/FraLotito/pytorch-continuous-bag-of-words/blob/master/cbow.py"
   ]
  },
  {
   "cell_type": "code",
   "execution_count": 1,
   "id": "f781709e-11ba-46b7-b3f0-3f25fbd9d95a",
   "metadata": {},
   "outputs": [
    {
     "name": "stdout",
     "output_type": "stream",
     "text": [
      "Running on cpu\n"
     ]
    }
   ],
   "source": [
    "import torch\n",
    "DEVICE = torch.device(\"cuda\" if torch.cuda.is_available() else \"cpu\")\n",
    "print(f'Running on {DEVICE}')\n",
    "\n",
    "if IN_COLAB := 'google.colab' in str(get_ipython()):\n",
    "  from google.colab import drive\n",
    "  drive.mount('/content/drive')\n",
    "  BASE_PATH = './drive/MyDrive/Colab/'\n",
    "  import nltk\n",
    "  nltk.download('stopwords')\n",
    "  !pip install portalocker\n",
    "\n",
    "else:\n",
    "  BASE_PATH = './'"
   ]
  },
  {
   "cell_type": "markdown",
   "id": "545f21b1-93ad-4999-9709-d598d3c98024",
   "metadata": {},
   "source": [
    "## Dataset"
   ]
  },
  {
   "cell_type": "code",
   "execution_count": 2,
   "id": "c2a5b88d-f223-42cc-bc0d-788904618115",
   "metadata": {},
   "outputs": [],
   "source": [
    "import pandas as pd\n",
    "import torch.nn as nn\n",
    "import torchtext\n",
    "import string\n",
    "import numpy as np\n",
    "from collections import Counter\n",
    "import locale\n",
    "import re\n",
    "locale.setlocale(locale.LC_ALL, locale='')  # for thousands separator via ... print(f'{value:n}')\n",
    "\n",
    "from nltk.corpus import stopwords\n"
   ]
  },
  {
   "cell_type": "code",
   "execution_count": 4,
   "id": "5efc954c-d637-47cc-827f-b7e7ad42c45f",
   "metadata": {},
   "outputs": [],
   "source": [
    "train_iter = torchtext.datasets.WikiText2(split='train')\n",
    "train_list = list(train_iter)  # 36.718 lines, some only line break, some multiple sentences\n",
    "#train_list[2000:2010]"
   ]
  },
  {
   "cell_type": "code",
   "execution_count": 5,
   "id": "99053259-1c83-4b15-ba6d-369fa018d031",
   "metadata": {},
   "outputs": [
    {
     "name": "stdout",
     "output_type": "stream",
     "text": [
      "10817154\n"
     ]
    }
   ],
   "source": [
    "# flatten the list to s single, huge string\n",
    "train_str = ' '.join(train_list)\n",
    "print(len(train_str))"
   ]
  },
  {
   "cell_type": "code",
   "execution_count": 6,
   "id": "d0686bb7-68ff-4c60-afd4-e599d736db65",
   "metadata": {},
   "outputs": [
    {
     "name": "stdout",
     "output_type": "stream",
     "text": [
      "Removed 472.889 punctuation characters. Remaining characters: 10.344.265.\n"
     ]
    }
   ],
   "source": [
    "# remove punctuation\n",
    "translator = str.maketrans('', '', string.punctuation + '“”’…')  # —\n",
    "train_without_punctuation =  train_str.translate(translator)\n",
    "\n",
    "print(f\"Removed {len(train_str) - len(train_without_punctuation) :n} punctuation characters.\",\n",
    "      f\"Remaining characters: {len(train_without_punctuation) :n}.\")"
   ]
  },
  {
   "cell_type": "code",
   "execution_count": 7,
   "id": "61b307aa-4ce7-4b97-97e0-e429ce03a5dc",
   "metadata": {},
   "outputs": [
    {
     "name": "stdout",
     "output_type": "stream",
     "text": [
      "Tokenized words: 1.755.612.\n"
     ]
    }
   ],
   "source": [
    "tokenizer = torchtext.data.utils.get_tokenizer('basic_english')\n",
    "\n",
    "tokenized_1 = tokenizer(train_without_punctuation.lower())\n",
    "print(f'Tokenized words: {len(tokenized_1) :n}.')"
   ]
  },
  {
   "cell_type": "code",
   "execution_count": 8,
   "id": "6b176dca-91eb-4b48-8f99-9d835a72d32f",
   "metadata": {},
   "outputs": [
    {
     "name": "stdout",
     "output_type": "stream",
     "text": [
      "Tokenized words after removing stopwords: 1.044.255.\n"
     ]
    }
   ],
   "source": [
    "# Remove most common words\n",
    "stop_words = set(stopwords.words('english'))\n",
    "\n",
    "tokenized_2 = [token for token in tokenized_1 if token not in stop_words]\n",
    "\n",
    "print(f'Tokenized words after removing stopwords: {len(tokenized_2) :n}.')"
   ]
  },
  {
   "cell_type": "code",
   "execution_count": 9,
   "id": "f0e005ed-43f8-430b-966c-d27a232ac39a",
   "metadata": {},
   "outputs": [
    {
     "name": "stdout",
     "output_type": "stream",
     "text": [
      "Tokenized words after removing words with special characters: 1.034.809.\n"
     ]
    }
   ],
   "source": [
    "# Remove words with special characters, e.g. 'élégante', 'wicked–base–ever'\n",
    "tokenized_3 = [word for word in tokenized_2 if not (special := re.findall(pattern='[^A-Za-z0-9.]+', string=word))]\n",
    "\n",
    "print(f'Tokenized words after removing words with special characters: {len(tokenized_3) :n}.')"
   ]
  },
  {
   "cell_type": "code",
   "execution_count": 10,
   "id": "77600540-caea-4ee2-8b34-8a8b17fef754",
   "metadata": {},
   "outputs": [
    {
     "name": "stdout",
     "output_type": "stream",
     "text": [
      "Tokenized words after removing rare words: 1.007.064.\n"
     ]
    }
   ],
   "source": [
    "# Remove words that have a word occurrence below the threshold\n",
    "words_counter = Counter(tokenized_3)\n",
    "MIN_WORD_OCCURRENCES = 5\n",
    "\n",
    "tokenized_4 = [word for word in tokenized_3 if words_counter[word] >= MIN_WORD_OCCURRENCES]\n",
    "\n",
    "print(f'Tokenized words after removing rare words: {len(tokenized_4) :n}.')"
   ]
  },
  {
   "cell_type": "code",
   "execution_count": null,
   "id": "e5b2464d-c549-49a7-815e-e93214a38d65",
   "metadata": {},
   "outputs": [],
   "source": []
  },
  {
   "cell_type": "code",
   "execution_count": null,
   "id": "509fa111-3233-4e26-8f71-cc0cb6e49228",
   "metadata": {},
   "outputs": [],
   "source": []
  },
  {
   "cell_type": "markdown",
   "id": "afb57017-dca5-4d27-ae2b-7da342fc92a1",
   "metadata": {},
   "source": [
    "### Create Context Words"
   ]
  },
  {
   "cell_type": "code",
   "execution_count": 11,
   "id": "66301ede-3799-47fa-9cdb-68d9bb9d3dae",
   "metadata": {},
   "outputs": [
    {
     "name": "stdout",
     "output_type": "stream",
     "text": [
      "Collected context training data of size 1.007.060 with 4 context words and a target word each. \n"
     ]
    }
   ],
   "source": [
    "contexts: list[tuple[tuple[str, str, str, str], str]] = []\n",
    "\n",
    "for i in range(2, len(tokenized_4) - 2):\n",
    "    context = (tokenized_4[i - 2], \n",
    "               tokenized_4[i - 1],\n",
    "               tokenized_4[i + 1], \n",
    "               tokenized_4[i + 2])\n",
    "    target = tokenized_4[i]\n",
    "    contexts.append((context, target))\n",
    "\n",
    "print(f\"Collected context training data of size {len(contexts) :n} with 4 context words and a target word each. \")"
   ]
  },
  {
   "cell_type": "markdown",
   "id": "3fda2e94-b34d-4a2b-b090-baf7e1b7ffba",
   "metadata": {},
   "source": [
    "### Words to Index\n",
    "\n",
    "Unlike gensim's Words2vec, torch always requires indices instead of strings. "
   ]
  },
  {
   "cell_type": "code",
   "execution_count": 12,
   "id": "6e7b6b51-ffb5-48cd-9ce2-43e2153ad2ec",
   "metadata": {},
   "outputs": [
    {
     "name": "stdout",
     "output_type": "stream",
     "text": [
      "20053\n",
      "The <class 'torchtext.vocab.vocab.Vocab'> has indices for a total of 20.053 different words.\n"
     ]
    }
   ],
   "source": [
    "# vocab = torchtext.vocab.build_vocab_from_iterator(tokenized_4)\n",
    "distinct_words = set(tokenized_4)\n",
    "print(len(distinct_words))\n",
    "token_to_index = {word: i+1 for i, word in enumerate(distinct_words)}  # vocab seems to have a problem with index 0\n",
    "vocab = torchtext.vocab.vocab(token_to_index)\n",
    "\n",
    "print(f'The {type(vocab)} has indices for a total of {len(vocab) :n} different words.')"
   ]
  },
  {
   "cell_type": "code",
   "execution_count": 13,
   "id": "7c655cd7-7474-400d-a38a-574e25183c7b",
   "metadata": {},
   "outputs": [
    {
     "name": "stdout",
     "output_type": "stream",
     "text": [
      "Example: (('iii', 'valkyria', 'unk', 'chronicles'), '3') -> ([4389, 8705, 12728, 6671], 2191)\n"
     ]
    }
   ],
   "source": [
    "# convert our context training data's contents to indices\n",
    "context_indices: list[tuple[tuple[int, int, int, int], int]] = []\n",
    "for (context, target) in contexts:\n",
    "    context_ind = [vocab[c] for c in context]\n",
    "    target_ind = vocab[target]\n",
    "    context_indices.append((context_ind, target_ind))\n",
    "    \n",
    "print(f'Example: {contexts[2]} -> {context_indices[2]}')"
   ]
  },
  {
   "cell_type": "markdown",
   "id": "7e074ba5-f193-4579-a3f1-52da24ee7290",
   "metadata": {},
   "source": [
    "### Tensorize\n",
    "\n",
    "Finally, we need to tensorize our indices and targets.\n",
    "- Shape [185033, 4] for context words\n",
    "- Shape [185033] for target, i.e. value only"
   ]
  },
  {
   "cell_type": "code",
   "execution_count": 14,
   "id": "49deabe6-8bd1-415b-ae07-c34fcb8d2f72",
   "metadata": {},
   "outputs": [],
   "source": [
    "contexts = torch.Tensor([context_ind for (context_ind, _) in context_indices]).type(torch.long)"
   ]
  },
  {
   "cell_type": "code",
   "execution_count": 15,
   "id": "e1c3ca44-7a37-4ea6-8260-1326ce64c0b3",
   "metadata": {},
   "outputs": [],
   "source": [
    "targets =  torch.Tensor([target_ind for (_, target_ind) in context_indices]).type(torch.long)\n",
    "\n",
    "assert len(contexts) == len(targets)"
   ]
  },
  {
   "cell_type": "markdown",
   "id": "f9241c61-de85-4cc3-ba0c-48e53882ed5e",
   "metadata": {},
   "source": [
    "## Dataset and DataLoader"
   ]
  },
  {
   "cell_type": "code",
   "execution_count": 16,
   "id": "fc589e9c-1b8d-4c4f-95c4-00c91b35413d",
   "metadata": {},
   "outputs": [],
   "source": [
    "from torch.utils.data import DataLoader, Dataset"
   ]
  },
  {
   "cell_type": "markdown",
   "id": "930daab2-95c0-4521-9d7d-d5420e5b6dc6",
   "metadata": {},
   "source": [
    "### Dataset\n",
    "Create a Torch Dataset"
   ]
  },
  {
   "cell_type": "code",
   "execution_count": 17,
   "id": "99661981-8c60-4bc2-824a-59ddefd5c25f",
   "metadata": {},
   "outputs": [],
   "source": [
    "class CustomDataset(Dataset):\n",
    "    def __init__(self, x, y):\n",
    "        self.x = x\n",
    "        self.y = y\n",
    "        assert len(x) == len(y)\n",
    "        \n",
    "    def __len__(self):\n",
    "        return len(self.x)\n",
    "    \n",
    "    def __getitem__(self, idx):\n",
    "        return self.x[idx], self.y[idx]"
   ]
  },
  {
   "cell_type": "code",
   "execution_count": 18,
   "id": "97e4b36c-66bd-4ae1-8c63-01419ea7da43",
   "metadata": {},
   "outputs": [],
   "source": [
    "dataset = CustomDataset(contexts.to(DEVICE), targets.to(DEVICE))"
   ]
  },
  {
   "cell_type": "markdown",
   "id": "ce19fc9a-bab3-489d-8bce-1b539296f97e",
   "metadata": {},
   "source": [
    "## Save and Load\n",
    "Preprocessing takes a long time when including all novels."
   ]
  },
  {
   "cell_type": "code",
   "execution_count": 19,
   "id": "f36dcb57-0808-4ef9-9089-0ec2e56a1ce0",
   "metadata": {},
   "outputs": [],
   "source": [
    "DATASET_CONTEXTS = BASE_PATH + 'saves/contexts_wiki2.pt'\n",
    "DATASET_TARGETS = BASE_PATH + 'saves/targets_wiki2.pt'\n",
    "VOCAB_PATH = BASE_PATH + 'saves/vocab_wiki2.pt'"
   ]
  },
  {
   "cell_type": "code",
   "execution_count": 20,
   "id": "ace603e1-52ce-4936-b9b9-e97917ba8d19",
   "metadata": {},
   "outputs": [],
   "source": [
    "torch.save(vocab, VOCAB_PATH)"
   ]
  },
  {
   "cell_type": "code",
   "execution_count": 21,
   "id": "1c6d0c50-9ab6-43b2-93f9-966a4bd8a673",
   "metadata": {},
   "outputs": [],
   "source": [
    "torch.save(contexts, DATASET_CONTEXTS)\n",
    "torch.save(targets, DATASET_TARGETS)"
   ]
  },
  {
   "cell_type": "code",
   "execution_count": 22,
   "id": "becc5df0-1b28-437c-9bb9-21a5feefb1fa",
   "metadata": {},
   "outputs": [],
   "source": [
    "#vocab = torch.load(VOCAB_PATH)\n",
    "#print(f'Loaded vocab of size {len(vocab) :n}.')"
   ]
  },
  {
   "cell_type": "code",
   "execution_count": 23,
   "id": "2ff2c7e1-f449-4f2a-9a52-19019a99a976",
   "metadata": {},
   "outputs": [],
   "source": [
    "# we save & load not the dataset but x and y to make transfer to device easier\n",
    "#contexts = torch.load(DATASET_CONTEXTS).to(DEVICE)\n",
    "#targets = torch.load(DATASET_TARGETS).to(DEVICE)\n",
    "#dataset = CustomDataset(contexts, targets)\n",
    "#print(f'Loaded {len(dataset) :n} context tensors as training data.')"
   ]
  },
  {
   "cell_type": "markdown",
   "id": "ee48c3b6-1bd8-4748-bcab-c98afaf2b22a",
   "metadata": {},
   "source": [
    "### DataLoader"
   ]
  },
  {
   "cell_type": "code",
   "execution_count": 24,
   "id": "1c33e463-9280-4dff-a59e-d5b8e84cfb56",
   "metadata": {},
   "outputs": [],
   "source": [
    "BATCH_SIZE = 512"
   ]
  },
  {
   "cell_type": "code",
   "execution_count": 25,
   "id": "3e3843f2-89c4-4023-af42-e83de851133e",
   "metadata": {},
   "outputs": [],
   "source": [
    "train_loader = DataLoader(dataset, \n",
    "                          batch_size=BATCH_SIZE, \n",
    "                          shuffle=True)"
   ]
  },
  {
   "cell_type": "markdown",
   "id": "4be2897d-c80a-43a6-8992-2de08ef011e9",
   "metadata": {},
   "source": [
    "## Model"
   ]
  },
  {
   "cell_type": "code",
   "execution_count": 26,
   "id": "5d8804b4-09e1-4d96-a4b6-55e6ef3f3c1f",
   "metadata": {},
   "outputs": [],
   "source": [
    "class CBOW(nn.Module):\n",
    "    def __init__(self, vocab_size, embedding_dim):\n",
    "        super(CBOW, self).__init__()\n",
    "\n",
    "        #out: 1 x emdedding_dim\n",
    "\n",
    "        self.embeddings = nn.Embedding(num_embeddings=vocab_size,  # size of the dictionary of embeddings\n",
    "                                       embedding_dim=embedding_dim)  # size of each embedding vector\n",
    "        self.linear1 = nn.Linear(embedding_dim, 128)\n",
    "        self.activation_function1 = nn.ReLU()\n",
    "        \n",
    "        #out: 1 x vocab_size\n",
    "        self.linear2 = nn.Linear(128, vocab_size)\n",
    "        self.activation_function2 = nn.LogSoftmax(dim = -1)\n",
    "        \n",
    "\n",
    "    def forward(self, inputs):  # inputs: [16, 4]\n",
    "        embeds_ = self.embeddings(inputs)  # [16, 4, 100]\n",
    "        embeds = torch.sum(embeds_, dim=1)  # [16, 100]\n",
    "        # embeds = sum(self.embeddings(inputs)).view(1, -1)  # [1, 400]\n",
    "        out = self.linear1(embeds)  # [16, 128]\n",
    "        out = self.activation_function1(out)  # [16, 128]\n",
    "        out = self.linear2(out)  # [16, 20420]\n",
    "        out = self.activation_function2(out)  # [16, 20420]\n",
    "        return out\n",
    "\n",
    "    #def get_word_emdedding(self, word):\n",
    "    #    word = torch.tensor([word_to_ix[word]])\n",
    "    #    return self.embeddings(word).view(1,-1)"
   ]
  },
  {
   "cell_type": "markdown",
   "id": "fd40c330-38dc-46b9-85f2-a152435f8576",
   "metadata": {},
   "source": [
    "## Training"
   ]
  },
  {
   "cell_type": "code",
   "execution_count": 27,
   "id": "220ca132-aafc-450b-89bb-5b5163566728",
   "metadata": {},
   "outputs": [],
   "source": [
    "from tqdm.auto import tqdm\n",
    "import math\n",
    "import time\n",
    "import torch.optim.lr_scheduler as lr_scheduler"
   ]
  },
  {
   "cell_type": "code",
   "execution_count": 28,
   "id": "37e9a2e8-5808-4ccf-a3e6-eb4a3d29e0e6",
   "metadata": {},
   "outputs": [],
   "source": [
    "EMDEDDING_DIM = 100\n",
    "\n",
    "N_EPOCHS = 1  # 50\n",
    "\n",
    "DISPLAY_EVERY_N_STEPS = 1000000"
   ]
  },
  {
   "cell_type": "code",
   "execution_count": 29,
   "id": "e9403d54-8903-4ee4-b089-2173deb698f8",
   "metadata": {},
   "outputs": [],
   "source": [
    "model = CBOW(len(vocab), EMDEDDING_DIM).to(DEVICE)\n",
    "\n",
    "loss_function = nn.NLLLoss()\n",
    "optimizer = torch.optim.SGD(model.parameters(), lr=0.1)\n",
    "scheduler = torch.optim.lr_scheduler.StepLR(optimizer, step_size=30)"
   ]
  },
  {
   "cell_type": "code",
   "execution_count": null,
   "id": "8feb063f-1fbc-4cb9-a4be-1f3587361011",
   "metadata": {},
   "outputs": [],
   "source": [
    "print(f'Starting training with N_EPOCHS = {N_EPOCHS} and a training data of {len(contexts) :n} context tensors.')\n",
    "\n",
    "model.train()\n",
    "\n",
    "\n",
    "steps_done = 0\n",
    "total_steps = N_EPOCHS * len(train_loader.dataset)\n",
    "recent_losses = []\n",
    "interim_time = time.time()\n",
    "for epoch in range(N_EPOCHS):\n",
    "\n",
    "    # x_batch: [{batch_size}, 4]\n",
    "    # y_batch: [{batch_size}]\n",
    "    for batch, (x_batch, y_batch) in enumerate(tqdm(train_loader)):\n",
    "            \n",
    "        optimizer.zero_grad()\n",
    "        \n",
    "        log_probs = model(x_batch)  # [16, 20420]\n",
    "        current_loss = loss_function(log_probs, y_batch)  # [16]\n",
    "\n",
    "        recent_losses.append(current_loss.item())\n",
    "\n",
    "        current_loss.backward()\n",
    "        optimizer.step()\n",
    "\n",
    "        steps_done += len(x_batch)\n",
    "        \n",
    "        if (steps_done) % DISPLAY_EVERY_N_STEPS < len(x_batch):\n",
    "            elapsed_time = time.time() - interim_time\n",
    "            interim_time = time.time()\n",
    "            average_loss = np.average(recent_losses)\n",
    "            recent_losses = []\n",
    "            print(f'| epoch {epoch + 1 :3d}/{N_EPOCHS} ',\n",
    "                  f'| batch {batch + 1 :n}/{len(train_loader) :n} ',\n",
    "                  f'| {steps_done :n}/{total_steps :n} vectors done ',\n",
    "                  f'| {elapsed_time :.2f} sec. ',\n",
    "                  f'| lr {optimizer.param_groups[0][\"lr\"]}',\n",
    "                  f'| loss {average_loss:5.2f}') #  :n\n",
    "            \n",
    "    scheduler.step()\n",
    "            "
   ]
  },
  {
   "cell_type": "code",
   "execution_count": 31,
   "id": "5bc6a744-9ae6-4076-af2c-ce0a268df0bf",
   "metadata": {},
   "outputs": [],
   "source": [
    "# save trained model\n",
    "MODEL_PATH = BASE_PATH + 'saves/model.pt'"
   ]
  },
  {
   "cell_type": "code",
   "execution_count": 32,
   "id": "80c695cb-6d2b-4b00-9d1d-e866c36d7620",
   "metadata": {},
   "outputs": [],
   "source": [
    "torch.save(model.state_dict(), MODEL_PATH)"
   ]
  },
  {
   "cell_type": "code",
   "execution_count": 33,
   "id": "0c29f748-3fa9-4c06-8e5f-8a9988fe14e7",
   "metadata": {},
   "outputs": [],
   "source": [
    "# load\n",
    "#model = CBOW(len(vocab), EMDEDDING_DIM)\n",
    "#model.load_state_dict(torch.load(MODEL_PATH))\n",
    "#model.eval()"
   ]
  },
  {
   "cell_type": "markdown",
   "id": "591899a9-5b39-4c4b-8394-f043a4076f33",
   "metadata": {},
   "source": [
    "## Evaluation"
   ]
  },
  {
   "cell_type": "code",
   "execution_count": 34,
   "id": "8fe81016-76cc-4140-aaca-265191fd6550",
   "metadata": {},
   "outputs": [
    {
     "data": {
      "text/plain": [
       "CBOW(\n",
       "  (embeddings): Embedding(20053, 100)\n",
       "  (linear1): Linear(in_features=100, out_features=128, bias=True)\n",
       "  (activation_function1): ReLU()\n",
       "  (linear2): Linear(in_features=128, out_features=20053, bias=True)\n",
       "  (activation_function2): LogSoftmax(dim=-1)\n",
       ")"
      ]
     },
     "execution_count": 34,
     "metadata": {},
     "output_type": "execute_result"
    }
   ],
   "source": [
    "model.eval()"
   ]
  },
  {
   "cell_type": "code",
   "execution_count": 35,
   "id": "e2ced29b-f994-4918-934c-aa422723cab9",
   "metadata": {},
   "outputs": [
    {
     "data": {
      "text/plain": [
       "15072"
      ]
     },
     "execution_count": 35,
     "metadata": {},
     "output_type": "execute_result"
    }
   ],
   "source": [
    "def get_index(*tokens) -> list[int] | int:\n",
    "    indices = []\n",
    "    for token in tokens:\n",
    "        if token not in vocab:\n",
    "            raise ValueError(f'Token not found: {token}')\n",
    "        indices.append(vocab[token])\n",
    "    return indices if len(indices) > 1 else indices[0]\n",
    "\n",
    "get_index('king')"
   ]
  },
  {
   "cell_type": "markdown",
   "id": "80092ce4-3796-4d2f-8fda-619622b9e781",
   "metadata": {},
   "source": [
    "### Normalize Embeddings"
   ]
  },
  {
   "cell_type": "code",
   "execution_count": 36,
   "id": "3bd0846b-0e65-49c1-aeb0-1dc5915ebc17",
   "metadata": {},
   "outputs": [],
   "source": [
    "# read embedding from first model layer\n",
    "embeddings = next(model.embeddings.parameters()).cpu().detach().numpy()  # (16390, 100)\n"
   ]
  },
  {
   "cell_type": "code",
   "execution_count": 37,
   "id": "e28d654e-b161-4c86-bcff-f887a8955547",
   "metadata": {},
   "outputs": [],
   "source": [
    "# normalize\n",
    "norms = (embeddings ** 2).sum(axis=1) ** (1 / 2)  # ndarray (16390,)\n",
    "norms = np.reshape(norms, (len(norms), 1))  # (16390, 1)\n",
    "embeddings_normalized = embeddings / norms  # (16390, 100)"
   ]
  },
  {
   "cell_type": "markdown",
   "id": "19e19a44-43d5-4ba8-9e21-31b4da53852c",
   "metadata": {},
   "source": [
    "### Find Similar Words"
   ]
  },
  {
   "cell_type": "code",
   "execution_count": 38,
   "id": "2e85ad7c-e8af-4cd3-abd1-5262e71145e3",
   "metadata": {},
   "outputs": [],
   "source": [
    "def get_top_similar(word: str, top_n: int):\n",
    "    if word not in vocab:\n",
    "        raise ValueError(f'Not found: {word}')\n",
    "    word_index = vocab[word]\n",
    "\n",
    "    word_vector = embeddings_normalized[word_index]\n",
    "    word_vector = np.reshape(word_vector, (len(word_vector), 1))\n",
    "    distances = np.matmul(embeddings_normalized, word_vector).flatten()\n",
    "    top_n_indices = np.argsort(-distances)[1 : top_n + 1]  # the nearest is always the word itself\n",
    "\n",
    "    top_n_dict = {}\n",
    "    for similar_word_index in top_n_indices:\n",
    "        similar_word = vocab.lookup_token(similar_word_index)\n",
    "        top_n_dict[similar_word] = distances[similar_word_index]\n",
    "    return top_n_dict"
   ]
  },
  {
   "cell_type": "code",
   "execution_count": 39,
   "id": "fa81b768-b192-45f8-9daf-bb743d3851e3",
   "metadata": {},
   "outputs": [
    {
     "name": "stdout",
     "output_type": "stream",
     "text": [
      "berdych             : 0.393\n",
      "wiley               : 0.373\n",
      "rule                : 0.352\n",
      "proponents          : 0.340\n",
      "primitive           : 0.339\n",
      "trophy              : 0.330\n",
      "stimulation         : 0.326\n",
      "unprecedented       : 0.320\n",
      "detachment          : 0.319\n",
      "californian         : 0.317\n"
     ]
    }
   ],
   "source": [
    "for word, similarity in get_top_similar(\"king\", top_n=10).items():\n",
    "    print(f\"{word: <20}: {similarity :.3f}\")"
   ]
  },
  {
   "cell_type": "markdown",
   "id": "9ed9b60e-4274-4032-8910-7d49e7ea6ee5",
   "metadata": {},
   "source": [
    "### Vector Equations"
   ]
  },
  {
   "cell_type": "code",
   "execution_count": 40,
   "id": "c7f2a958-b8e2-486b-85ff-60851beb9033",
   "metadata": {},
   "outputs": [
    {
     "name": "stdout",
     "output_type": "stream",
     "text": [
      "woman: 0.623\n",
      "king: 0.614\n",
      "thermal: 0.390\n",
      "californian: 0.359\n",
      "doubts: 0.359\n"
     ]
    }
   ],
   "source": [
    "emb1 = embeddings[vocab[\"king\"]]\n",
    "emb2 = embeddings[vocab[\"man\"]]\n",
    "emb3 = embeddings[vocab[\"woman\"]]\n",
    "\n",
    "emb4 = emb1 - emb2 + emb3\n",
    "emb4_norm = (emb4 ** 2).sum() ** (1 / 2)\n",
    "emb4 = emb4 / emb4_norm\n",
    "\n",
    "emb4 = np.reshape(emb4, (len(emb4), 1))\n",
    "dists = np.matmul(embeddings_normalized, emb4).flatten()\n",
    "\n",
    "top5 = np.argsort(-dists)[:5]\n",
    "\n",
    "for word_id in top5:\n",
    "    print(\"{}: {:.3f}\".format(vocab.lookup_token(word_id), dists[word_id]))"
   ]
  },
  {
   "cell_type": "code",
   "execution_count": null,
   "id": "ca6e7786-647a-4886-866e-20055e0e2b56",
   "metadata": {},
   "outputs": [],
   "source": []
  }
 ],
 "metadata": {
  "kernelspec": {
   "display_name": "Python 3 (ipykernel)",
   "language": "python",
   "name": "python3"
  },
  "language_info": {
   "codemirror_mode": {
    "name": "ipython",
    "version": 3
   },
   "file_extension": ".py",
   "mimetype": "text/x-python",
   "name": "python",
   "nbconvert_exporter": "python",
   "pygments_lexer": "ipython3",
   "version": "3.11.4"
  }
 },
 "nbformat": 4,
 "nbformat_minor": 5
}
