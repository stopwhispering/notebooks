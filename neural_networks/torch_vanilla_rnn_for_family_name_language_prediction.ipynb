{
 "cells": [
  {
   "cell_type": "markdown",
   "id": "81f552e0-3b22-491a-871f-f86fa48b5257",
   "metadata": {
    "id": "81f552e0-3b22-491a-871f-f86fa48b5257"
   },
   "source": [
    "# PyTorch🔥RNN - Predict Family Name Origins with vanilla RNN Model"
   ]
  },
  {
   "cell_type": "markdown",
   "id": "6971d7af-6fe6-46b4-a8f0-291eb564c157",
   "metadata": {
    "id": "6971d7af-6fe6-46b4-a8f0-291eb564c157"
   },
   "source": [
    "Subject: Predicting the Language Origin of family names with a custom vanilla RNN Model (no LSTM layer/cells).\n",
    "\n",
    "Data: Family Names in 18 Languages (from pytorch tutorial)\n",
    "\n",
    "Procedure:\n",
    "\n",
    "- Using string.ascii_letters list as a simple vocabulary\n",
    "- Tokenizing characters in the family names\n",
    "- Tensorizing train and target, with targets being the 18 languages\n",
    "- Creating a torch.utils.data.TensorDataset and torch.utils.data.DataLoader\n",
    "- Creating torch.nn.module model with torch.nn.Linear, torch.nn.LogSoftmax, and torch.tanh\n",
    "- Training with torch.nn.CrossEntropyLoss, torch.optim.Adam, and hidden state tensors for storing the state in between a sequence\n",
    "- Visualization of losses with pyplot\n",
    "- Evaluation by classifying arbitrary input family names\n",
    "- Quite encouraging results\n",
    "\n",
    "Others:\n",
    "- CUDA support\n",
    "- working on Colab with Google Drive for loading data\n",
    "\n",
    "Sources used:\n",
    "- https://pytorch.org/tutorials/intermediate/char_rnn_classification_tutorial.html  (includes dataset)"
   ]
  },
  {
   "cell_type": "code",
   "execution_count": 1,
   "id": "4504f8f6-93c7-4d50-97cd-1b7c26df2731",
   "metadata": {
    "colab": {
     "base_uri": "https://localhost:8080/"
    },
    "id": "4504f8f6-93c7-4d50-97cd-1b7c26df2731",
    "outputId": "108570a3-1f14-41bf-c8a7-8c6174c84bda"
   },
   "outputs": [
    {
     "name": "stdout",
     "output_type": "stream",
     "text": [
      "Running on cuda\n",
      "Mounted at /content/drive\n",
      "Collecting torchviz\n",
      "  Downloading torchviz-0.0.2.tar.gz (4.9 kB)\n",
      "  Preparing metadata (setup.py) ... \u001b[?25l\u001b[?25hdone\n",
      "Requirement already satisfied: torch in /usr/local/lib/python3.10/dist-packages (from torchviz) (2.0.1+cu118)\n",
      "Requirement already satisfied: graphviz in /usr/local/lib/python3.10/dist-packages (from torchviz) (0.20.1)\n",
      "Requirement already satisfied: filelock in /usr/local/lib/python3.10/dist-packages (from torch->torchviz) (3.12.2)\n",
      "Requirement already satisfied: typing-extensions in /usr/local/lib/python3.10/dist-packages (from torch->torchviz) (4.7.1)\n",
      "Requirement already satisfied: sympy in /usr/local/lib/python3.10/dist-packages (from torch->torchviz) (1.12)\n",
      "Requirement already satisfied: networkx in /usr/local/lib/python3.10/dist-packages (from torch->torchviz) (3.1)\n",
      "Requirement already satisfied: jinja2 in /usr/local/lib/python3.10/dist-packages (from torch->torchviz) (3.1.2)\n",
      "Requirement already satisfied: triton==2.0.0 in /usr/local/lib/python3.10/dist-packages (from torch->torchviz) (2.0.0)\n",
      "Requirement already satisfied: cmake in /usr/local/lib/python3.10/dist-packages (from triton==2.0.0->torch->torchviz) (3.27.2)\n",
      "Requirement already satisfied: lit in /usr/local/lib/python3.10/dist-packages (from triton==2.0.0->torch->torchviz) (16.0.6)\n",
      "Requirement already satisfied: MarkupSafe>=2.0 in /usr/local/lib/python3.10/dist-packages (from jinja2->torch->torchviz) (2.1.3)\n",
      "Requirement already satisfied: mpmath>=0.19 in /usr/local/lib/python3.10/dist-packages (from sympy->torch->torchviz) (1.3.0)\n",
      "Building wheels for collected packages: torchviz\n",
      "  Building wheel for torchviz (setup.py) ... \u001b[?25l\u001b[?25hdone\n",
      "  Created wheel for torchviz: filename=torchviz-0.0.2-py3-none-any.whl size=4130 sha256=f6fc61bb00e25818f301118c2b299d2c9e56a46af72875ea73f9cc4811ddd61a\n",
      "  Stored in directory: /root/.cache/pip/wheels/4c/97/88/a02973217949e0db0c9f4346d154085f4725f99c4f15a87094\n",
      "Successfully built torchviz\n",
      "Installing collected packages: torchviz\n",
      "Successfully installed torchviz-0.0.2\n"
     ]
    }
   ],
   "source": [
    "import torch\n",
    "DEVICE = torch.device(\"cuda\" if torch.cuda.is_available() else \"cpu\")\n",
    "print(f'Running on {DEVICE}')\n",
    "\n",
    "if IN_COLAB := 'google.colab' in str(get_ipython()):\n",
    "  from google.colab import drive\n",
    "  drive.mount('/content/drive')\n",
    "  BASE_PATH = './drive/MyDrive/Colab/'\n",
    "  !pip install torchviz\n",
    "\n",
    "else:\n",
    "  BASE_PATH = '../'"
   ]
  },
  {
   "cell_type": "code",
   "execution_count": 2,
   "id": "bb334223-7cb9-40c6-9c11-3cb08b343ffd",
   "metadata": {
    "id": "bb334223-7cb9-40c6-9c11-3cb08b343ffd"
   },
   "outputs": [],
   "source": [
    "from io import open\n",
    "import glob\n",
    "import os\n",
    "import unicodedata\n",
    "import string\n",
    "import time\n",
    "import math\n",
    "import random\n",
    "\n",
    "import torch\n",
    "import torch.nn as nn\n",
    "import torch.optim as optim\n",
    "\n",
    "import matplotlib.pyplot as plt\n",
    "import matplotlib.ticker as ticker"
   ]
  },
  {
   "cell_type": "markdown",
   "id": "9e7fb1aa-9b67-461f-9c47-5ec61d02970b",
   "metadata": {
    "id": "9e7fb1aa-9b67-461f-9c47-5ec61d02970b"
   },
   "source": [
    "## Data Preparation\n",
    "### Reading Files"
   ]
  },
  {
   "cell_type": "code",
   "execution_count": 3,
   "id": "4ca7857c-59c2-4c81-a224-4c8596afe2b6",
   "metadata": {
    "colab": {
     "base_uri": "https://localhost:8080/"
    },
    "id": "4ca7857c-59c2-4c81-a224-4c8596afe2b6",
    "outputId": "d6096a3e-eb75-4d83-d453-349d88cffd57"
   },
   "outputs": [
    {
     "name": "stdout",
     "output_type": "stream",
     "text": [
      "All 57 letters: abcdefghijklmnopqrstuvwxyzABCDEFGHIJKLMNOPQRSTUVWXYZ .,;'\n",
      "Ślusàrski -> Slusarski\n"
     ]
    }
   ],
   "source": [
    "# Some helper functions\n",
    "\n",
    "all_letters = string.ascii_letters + \" .,;'\"\n",
    "n_letters = len(all_letters)\n",
    "print(f'All {n_letters} letters: {all_letters}')\n",
    "\n",
    "def findFiles(path):\n",
    "    return glob.glob(path)\n",
    "\n",
    "# Turn a Unicode string to plain ASCII\n",
    "def unicodeToAscii(s):\n",
    "    return ''.join(\n",
    "        c for c in unicodedata.normalize('NFD', s)\n",
    "        if unicodedata.category(c) != 'Mn'\n",
    "        and c in all_letters\n",
    "    )\n",
    "\n",
    "print(f'Ślusàrski -> {unicodeToAscii(\"Ślusàrski\")}')\n",
    "\n",
    "# Read a file and split into lines\n",
    "def readLines(filename):\n",
    "    lines = open(filename, encoding='utf-8').read().strip().split('\\n')\n",
    "    return [unicodeToAscii(line) for line in lines]"
   ]
  },
  {
   "cell_type": "code",
   "execution_count": 5,
   "id": "b16f602f-1605-4a58-a4d3-d54fe0d0258d",
   "metadata": {
    "colab": {
     "base_uri": "https://localhost:8080/"
    },
    "id": "b16f602f-1605-4a58-a4d3-d54fe0d0258d",
    "outputId": "07a16aa4-b9d1-49b9-e510-09a6c39ba6c0"
   },
   "outputs": [
    {
     "name": "stdout",
     "output_type": "stream",
     "text": [
      "['Mantovani', 'Marchegiano', 'Marchesi', 'Marchetti', 'Marchioni', 'Marconi', 'Mari', 'Maria', 'Mariani', 'Marino', 'Marmo', 'Martelli', 'Martinelli', 'Masi', 'Masin']\n"
     ]
    }
   ],
   "source": [
    "# list of all languages we have a .txt file for\n",
    "all_categories = []\n",
    "\n",
    "# map from language to list of all names\n",
    "category_lines = {}\n",
    "\n",
    "for filename in findFiles(BASE_PATH + 'data/names/*.txt'):\n",
    "    category = os.path.splitext(os.path.basename(filename))[0]\n",
    "    all_categories.append(category)\n",
    "    lines = readLines(filename)\n",
    "    category_lines[category] = lines\n",
    "\n",
    "# print some example names for 'Italian'\n",
    "print(category_lines['Italian'][400:415])"
   ]
  },
  {
   "cell_type": "markdown",
   "id": "51d4f258-5588-45e1-b575-e2d61eefac88",
   "metadata": {
    "id": "51d4f258-5588-45e1-b575-e2d61eefac88"
   },
   "source": [
    "### Convert Names to Tensors\n",
    "To represent a single letter, we use a “one-hot vector” of size <1 x n_letters>.\n",
    "\n",
    "To make a word we join a bunch of those into a 2D matrix <line_length x 1 x n_letters>."
   ]
  },
  {
   "cell_type": "code",
   "execution_count": 17,
   "id": "74b7dbdf-5dfe-4ae0-a63a-2cb897580529",
   "metadata": {
    "colab": {
     "base_uri": "https://localhost:8080/"
    },
    "id": "74b7dbdf-5dfe-4ae0-a63a-2cb897580529",
    "outputId": "bdcb492e-d095-4b5a-fe73-3b722be65a8f"
   },
   "outputs": [
    {
     "name": "stdout",
     "output_type": "stream",
     "text": [
      "'J' -> tensor([[0., 0., 0., 0., 0., 0., 0., 0., 0., 0., 0., 0., 0., 0., 0., 0., 0., 0.,\n",
      "         0., 0., 0., 0., 0., 0., 0., 0., 0., 0., 0., 0., 0., 0., 0., 0., 0., 1.,\n",
      "         0., 0., 0., 0., 0., 0., 0., 0., 0., 0., 0., 0., 0., 0., 0., 0., 0., 0.,\n",
      "         0., 0., 0.]], device='cuda:0')\n",
      "'Jones' -> tensor([[[0., 0., 0., 0., 0., 0., 0., 0., 0., 0., 0., 0., 0., 0., 0., 0., 0.,\n",
      "          0., 0., 0., 0., 0., 0., 0., 0., 0., 0., 0., 0., 0., 0., 0., 0., 0.,\n",
      "          0., 1., 0., 0., 0., 0., 0., 0., 0., 0., 0., 0., 0., 0., 0., 0., 0.,\n",
      "          0., 0., 0., 0., 0., 0.]],\n",
      "\n",
      "        [[0., 0., 0., 0., 0., 0., 0., 0., 0., 0., 0., 0., 0., 0., 1., 0., 0.,\n",
      "          0., 0., 0., 0., 0., 0., 0., 0., 0., 0., 0., 0., 0., 0., 0., 0., 0.,\n",
      "          0., 0., 0., 0., 0., 0., 0., 0., 0., 0., 0., 0., 0., 0., 0., 0., 0.,\n",
      "          0., 0., 0., 0., 0., 0.]],\n",
      "\n",
      "        [[0., 0., 0., 0., 0., 0., 0., 0., 0., 0., 0., 0., 0., 1., 0., 0., 0.,\n",
      "          0., 0., 0., 0., 0., 0., 0., 0., 0., 0., 0., 0., 0., 0., 0., 0., 0.,\n",
      "          0., 0., 0., 0., 0., 0., 0., 0., 0., 0., 0., 0., 0., 0., 0., 0., 0.,\n",
      "          0., 0., 0., 0., 0., 0.]],\n",
      "\n",
      "        [[0., 0., 0., 0., 1., 0., 0., 0., 0., 0., 0., 0., 0., 0., 0., 0., 0.,\n",
      "          0., 0., 0., 0., 0., 0., 0., 0., 0., 0., 0., 0., 0., 0., 0., 0., 0.,\n",
      "          0., 0., 0., 0., 0., 0., 0., 0., 0., 0., 0., 0., 0., 0., 0., 0., 0.,\n",
      "          0., 0., 0., 0., 0., 0.]],\n",
      "\n",
      "        [[0., 0., 0., 0., 0., 0., 0., 0., 0., 0., 0., 0., 0., 0., 0., 0., 0.,\n",
      "          0., 1., 0., 0., 0., 0., 0., 0., 0., 0., 0., 0., 0., 0., 0., 0., 0.,\n",
      "          0., 0., 0., 0., 0., 0., 0., 0., 0., 0., 0., 0., 0., 0., 0., 0., 0.,\n",
      "          0., 0., 0., 0., 0., 0.]]], device='cuda:0')\n"
     ]
    }
   ],
   "source": [
    "# get letter index, e.g. \"a\" -> 0\n",
    "def letterToIndex(letter: str) -> int:\n",
    "    return all_letters.find(letter)\n",
    "\n",
    "# turn a letter into a <1 x n_letters> Tensor\n",
    "def letterToTensor(letter):\n",
    "    tensor = torch.zeros(1, n_letters)\n",
    "    tensor[0][letterToIndex(letter)] = 1\n",
    "    return tensor.to(DEVICE)\n",
    "\n",
    "print(f\"'J' -> {letterToTensor('J')}\")  # [1, 57]\n",
    "\n",
    "# Turn a line into a <line_length x 1 x n_letters>,\n",
    "# or an array of one-hot letter vectors\n",
    "def lineToTensor(line):\n",
    "    tensor = torch.zeros(len(line), 1, n_letters)\n",
    "    for li, letter in enumerate(line):\n",
    "        tensor[li][0][letterToIndex(letter)] = 1\n",
    "    return tensor.to(DEVICE)\n",
    "\n",
    "\n",
    "print(f\"'Jones' -> {lineToTensor('Jones')}\")  # [5, 1, 57] torch.float32"
   ]
  },
  {
   "cell_type": "markdown",
   "id": "73f21a85-571e-4dee-b66f-17cbd2d9988b",
   "metadata": {
    "id": "73f21a85-571e-4dee-b66f-17cbd2d9988b"
   },
   "source": [
    "## Model"
   ]
  },
  {
   "cell_type": "code",
   "execution_count": 26,
   "id": "84cbe280-e696-4e8d-b1d5-7e2e5680ee99",
   "metadata": {
    "id": "84cbe280-e696-4e8d-b1d5-7e2e5680ee99"
   },
   "outputs": [],
   "source": [
    "class RNN(nn.Module):\n",
    "    def __init__(self, input_size: int, hidden_size: int, output_size: int):\n",
    "        super(RNN, self).__init__()\n",
    "\n",
    "        self.hidden_size = hidden_size\n",
    "\n",
    "        self.input_to_hidden = nn.Linear(in_features=input_size,\n",
    "                                         out_features=hidden_size)\n",
    "        self.hidden_to_hidden = nn.Linear(in_features=hidden_size,\n",
    "                                          out_features=hidden_size)\n",
    "        self.hidden_to_output = nn.Linear(in_features=hidden_size,\n",
    "                                          out_features=output_size)\n",
    "        self.softmax = nn.LogSoftmax(dim=1)\n",
    "\n",
    "    def forward(self,\n",
    "                input: torch.Tensor,\n",
    "                hidden: torch.Tensor):\n",
    "\n",
    "        input_1 = self.input_to_hidden(input)\n",
    "        hidden_1 = self.hidden_to_hidden(hidden)\n",
    "\n",
    "        hidden_2 = torch.tanh(input_1 + hidden_1)\n",
    "\n",
    "        output_1 = self.hidden_to_output(hidden_2)\n",
    "\n",
    "        return output_1, hidden_2\n",
    "\n",
    "    def initHidden(self):\n",
    "        return torch.zeros(1, self.hidden_size).to(DEVICE)\n",
    "\n",
    "n_hidden = 128\n",
    "rnn = RNN(input_size=n_letters, hidden_size=n_hidden, output_size=len(all_categories)).to(DEVICE)"
   ]
  },
  {
   "cell_type": "markdown",
   "id": "8e7a37ef-1ac0-426d-acf1-30b19b71ece4",
   "metadata": {
    "id": "8e7a37ef-1ac0-426d-acf1-30b19b71ece4"
   },
   "source": [
    "To run a step of this network we need to pass an input (in our case, the Tensor for the current letter) and a previous hidden state (which we initialize as zeros at first). We’ll get back the output (probability of each language) and a next hidden state (which we keep for the next step)."
   ]
  },
  {
   "cell_type": "code",
   "execution_count": 18,
   "id": "69f4397a-5ef3-40dc-9340-5a8d6a384dd8",
   "metadata": {
    "colab": {
     "base_uri": "https://localhost:8080/"
    },
    "id": "69f4397a-5ef3-40dc-9340-5a8d6a384dd8",
    "outputId": "0527f60c-32bc-450a-e0fd-210a5eb20584"
   },
   "outputs": [
    {
     "name": "stdout",
     "output_type": "stream",
     "text": [
      "Guess after 'J': Czech\n",
      "Guess after 'o': Irish\n",
      "Guess after 'n': French\n",
      "Guess after 'e': Irish\n",
      "Guess after 's': Chinese\n"
     ]
    }
   ],
   "source": [
    "# Let's try for 'Jones' with the untrained Model\n",
    "input = letterToTensor('J').to(DEVICE)  # [1, 57]\n",
    "hidden = torch.zeros(1, n_hidden).to(DEVICE)  # [1, 128]\n",
    "\n",
    "output, next_hidden = rnn(input, hidden)  # output: [1, 18]  next_hidden: [1, 128]\n",
    "print(f\"Guess after 'J': {all_categories[output.argmax()]}\")\n",
    "\n",
    "output, next_hidden = rnn(letterToTensor('o'), next_hidden)  # output: [1, 18]  next_hidden: [1, 128]\n",
    "print(f\"Guess after 'o': {all_categories[output.argmax()]}\")\n",
    "\n",
    "output, next_hidden = rnn(letterToTensor('n'), next_hidden)  # output: [1, 18]  next_hidden: [1, 128]\n",
    "print(f\"Guess after 'n': {all_categories[output.argmax()]}\")\n",
    "\n",
    "output, next_hidden = rnn(letterToTensor('e'), next_hidden)  # output: [1, 18]  next_hidden: [1, 128]\n",
    "print(f\"Guess after 'e': {all_categories[output.argmax()]}\")\n",
    "\n",
    "output, next_hidden = rnn(letterToTensor('s'), next_hidden)  # output: [1, 18]  next_hidden: [1, 128]\n",
    "print(f\"Guess after 's': {all_categories[output.argmax()]}\")"
   ]
  },
  {
   "cell_type": "markdown",
   "id": "22e783cb-4f61-4af8-a67f-21ecde143380",
   "metadata": {
    "id": "22e783cb-4f61-4af8-a67f-21ecde143380"
   },
   "source": [
    "## Trainingutput and loss"
   ]
  },
  {
   "cell_type": "markdown",
   "id": "7fe15870-d406-441b-b216-13386cbb611d",
   "metadata": {
    "id": "7fe15870-d406-441b-b216-13386cbb611d"
   },
   "source": [
    "### Helper Functions"
   ]
  },
  {
   "cell_type": "code",
   "execution_count": 19,
   "id": "3856b313-c02a-4fe6-985b-03d00ff6c5e4",
   "metadata": {
    "id": "3856b313-c02a-4fe6-985b-03d00ff6c5e4"
   },
   "outputs": [],
   "source": [
    "# Tracking Time\n",
    "def timeSince(since):\n",
    "    now = time.time()\n",
    "    s = now - since\n",
    "    m = math.floor(s / 60)\n",
    "    s -= m * 60\n",
    "    return '%dm %ds' % (m, s)"
   ]
  },
  {
   "cell_type": "code",
   "execution_count": 20,
   "id": "6a019423-b907-4841-851b-eb72c01810cd",
   "metadata": {
    "colab": {
     "base_uri": "https://localhost:8080/"
    },
    "id": "6a019423-b907-4841-851b-eb72c01810cd",
    "outputId": "37d6657b-35d5-47d4-a0e5-572e5f906462"
   },
   "outputs": [
    {
     "name": "stdout",
     "output_type": "stream",
     "text": [
      "category = English / line = Wicks\n",
      "category = Czech / line = Chermak\n",
      "category = English / line = Raine\n",
      "category = Greek / line = Chrysanthopoulos\n",
      "category = Irish / line = Adam\n",
      "category = English / line = Holt\n",
      "category = Dutch / line = Oomen\n",
      "category = Arabic / line = Maloof\n",
      "category = Czech / line = Voneve\n",
      "category = Chinese / line = Que\n"
     ]
    }
   ],
   "source": [
    "def get_random_language() -> str:\n",
    "    random_language_index = random.randint(0, len(all_categories) - 1)\n",
    "    return all_categories[random_language_index]\n",
    "\n",
    "def get_random_name(language: str):\n",
    "    language_lines = category_lines[language]\n",
    "    random_line_index = random.randint(0, len(language_lines) - 1)\n",
    "    return language_lines[random_line_index]\n",
    "\n",
    "def get_random_training_example():\n",
    "    language = get_random_language()\n",
    "    name = get_random_name(language=language)\n",
    "    category_tensor = torch.tensor(data=[all_categories.index(language)],\n",
    "                                   dtype=torch.long)  # [1] torch.int64, e.g. tensor([3])\n",
    "    line_tensor = lineToTensor(name)  # [{name length}, 1, 57] torch.float32\n",
    "    return language, name, category_tensor.to(DEVICE), line_tensor.to(DEVICE)\n",
    "\n",
    "# print some examples\n",
    "for i in range(10):\n",
    "    category, line, category_tensor, line_tensor = get_random_training_example()\n",
    "    print('category =', category, '/ line =', line)"
   ]
  },
  {
   "cell_type": "code",
   "execution_count": 21,
   "id": "cf20d250-c5f0-4b4f-a29a-2fda57be4657",
   "metadata": {
    "id": "cf20d250-c5f0-4b4f-a29a-2fda57be4657"
   },
   "outputs": [],
   "source": [
    "def get_category_from_output(output):\n",
    "    top_n, top_i = output.topk(1)\n",
    "    category_i = top_i[0].item()\n",
    "    return all_categories[category_i], category_i\n",
    "\n",
    "# print(get_category_from_output(output))"
   ]
  },
  {
   "cell_type": "markdown",
   "id": "7bc23068-c046-4119-b52b-963acf220255",
   "metadata": {
    "id": "7bc23068-c046-4119-b52b-963acf220255"
   },
   "source": [
    "### Train"
   ]
  },
  {
   "cell_type": "code",
   "execution_count": 27,
   "id": "75b0158a-1aaa-4575-a10f-db6ec1b5d456",
   "metadata": {
    "id": "75b0158a-1aaa-4575-a10f-db6ec1b5d456"
   },
   "outputs": [],
   "source": [
    "# For the loss function nn.NLLLoss is appropriate,\n",
    "# since the last layer of the RNN is nn.LogSoftmax.\n",
    "criterion = nn.CrossEntropyLoss()  # nn.NLLoss()\n",
    "\n",
    "learning_rate = 0.001\n",
    "optimizer = torch.optim.Adam(rnn.parameters(),\n",
    "                             lr =  learning_rate)"
   ]
  },
  {
   "cell_type": "markdown",
   "id": "0d3a6e67-0d3b-4e9e-9dd7-980781c85382",
   "metadata": {
    "id": "0d3a6e67-0d3b-4e9e-9dd7-980781c85382"
   },
   "source": [
    "Each loop of training will:\n",
    "1. Create input and target tensors\n",
    "2. Create a zeroed initial hidden state\n",
    "3. Read each letter in and\n",
    "4. Keep hidden state for next letter\n",
    "5. Compare final output to target\n",
    "6. Back-propagate\n",
    "7. Return the output and loss"
   ]
  },
  {
   "cell_type": "code",
   "execution_count": 28,
   "id": "b40ab3db-8251-45a1-b19c-9b50989cce81",
   "metadata": {
    "id": "b40ab3db-8251-45a1-b19c-9b50989cce81"
   },
   "outputs": [],
   "source": [
    "def train(category_tensor: torch.Tensor,\n",
    "          line_tensor: torch.Tensor):\n",
    "\n",
    "    hidden = rnn.initHidden()\n",
    "\n",
    "    rnn.zero_grad()\n",
    "\n",
    "    loss = 0\n",
    "    for i in range(line_tensor.size()[0]):\n",
    "        output, hidden = rnn(line_tensor[i], hidden)\n",
    "        l = criterion(output, category_tensor)\n",
    "        loss += l\n",
    "\n",
    "    #loss = criterion(output, category_tensor)\n",
    "    loss.backward()\n",
    "\n",
    "    # clip as well to avoid vanishing and exploding gradients\n",
    "    # nn.utils.clip_grad_norm_(rnn.parameters(), 3)\n",
    "    optimizer.step()\n",
    "\n",
    "    return output, loss.item()"
   ]
  },
  {
   "cell_type": "code",
   "execution_count": 31,
   "id": "14bde7e5-c677-4806-ab84-50d70e3da739",
   "metadata": {
    "id": "14bde7e5-c677-4806-ab84-50d70e3da739"
   },
   "outputs": [],
   "source": [
    "N_ITERS = 40000 # 100000\n",
    "PRINT_EVERY = 5000\n",
    "PLOT_EVERY = 1000"
   ]
  },
  {
   "cell_type": "code",
   "execution_count": 32,
   "id": "5a39caff-29df-4302-bca6-6c632c3b734b",
   "metadata": {
    "colab": {
     "base_uri": "https://localhost:8080/"
    },
    "id": "5a39caff-29df-4302-bca6-6c632c3b734b",
    "outputId": "b3504998-526b-4c81-a89c-81e15ae1178a"
   },
   "outputs": [
    {
     "name": "stdout",
     "output_type": "stream",
     "text": [
      "5000 12% (0m 20s) 15.1333 Christou / Greek ✓\n",
      "10000 25% (0m 41s) 11.8791 Pezos / Greek ✓\n",
      "15000 37% (1m 1s) 15.5141 Seaghdha / Irish ✓\n",
      "20000 50% (1m 22s) 19.0897 Jacques / Russian ✗ (French)\n",
      "25000 62% (1m 42s) 18.2612 Baiteryakoff / Greek ✗ (Russian)\n",
      "30000 75% (2m 4s) 15.0514 Chevrolet / Greek ✗ (French)\n",
      "35000 87% (2m 24s) 10.1053 Till / English ✗ (Czech)\n",
      "40000 100% (2m 44s) 5.5160 Ciardha / Irish ✓\n"
     ]
    }
   ],
   "source": [
    "start = time.time()\n",
    "\n",
    "# Keep track of losses for plotting\n",
    "current_loss = 0\n",
    "all_losses = []\n",
    "\n",
    "rnn.train()\n",
    "for iter in range(1, N_ITERS + 1):\n",
    "    category, line, category_tensor, line_tensor = get_random_training_example()\n",
    "\n",
    "    output, loss = train(category_tensor, line_tensor)\n",
    "    current_loss += loss\n",
    "\n",
    "    # Print ``iter`` number, loss, name and guess\n",
    "    if iter % PRINT_EVERY == 0:\n",
    "        guess, guess_i = get_category_from_output(output)\n",
    "        correct = '✓' if guess == category else '✗ (%s)' % category\n",
    "        print('%d %d%% (%s) %.4f %s / %s %s' % (iter, iter / N_ITERS * 100, timeSince(start), loss, line, guess, correct))\n",
    "\n",
    "    # Add current loss avg to list of losses\n",
    "    if iter % PLOT_EVERY == 0:\n",
    "        all_losses.append(current_loss / PLOT_EVERY)\n",
    "        current_loss = 0"
   ]
  },
  {
   "cell_type": "markdown",
   "id": "9fa316ae-b7bd-4af1-a5d8-008db450caa9",
   "metadata": {
    "id": "9fa316ae-b7bd-4af1-a5d8-008db450caa9"
   },
   "source": [
    "## Visualize"
   ]
  },
  {
   "cell_type": "code",
   "execution_count": null,
   "id": "49909705-fef7-4b44-97a8-a7644b4c589e",
   "metadata": {
    "id": "49909705-fef7-4b44-97a8-a7644b4c589e",
    "outputId": "2b2ba6be-6b01-4121-eec5-05342523c4c4"
   },
   "outputs": [
    {
     "data": {
      "text/plain": [
       "[<matplotlib.lines.Line2D at 0x159f7eaad90>]"
      ]
     },
     "execution_count": 14,
     "metadata": {},
     "output_type": "execute_result"
    },
    {
     "data": {
      "image/png": "[encoded data removed]",
      "text/plain": [
       "<Figure size 640x480 with 1 Axes>"
      ]
     },
     "metadata": {},
     "output_type": "display_data"
    }
   ],
   "source": [
    "plt.figure()\n",
    "plt.plot(all_losses)"
   ]
  },
  {
   "cell_type": "markdown",
   "id": "bd4277db-ab10-4718-ab2d-315b4784d239",
   "metadata": {
    "id": "bd4277db-ab10-4718-ab2d-315b4784d239"
   },
   "source": [
    "## Let's show that it's really about the sequence"
   ]
  },
  {
   "cell_type": "code",
   "execution_count": 38,
   "id": "5db24d26-7c55-4f08-afbd-e01728860dad",
   "metadata": {
    "colab": {
     "base_uri": "https://localhost:8080/"
    },
    "id": "5db24d26-7c55-4f08-afbd-e01728860dad",
    "outputId": "0b43760e-4f9a-4513-8787-94e82ce823db"
   },
   "outputs": [
    {
     "name": "stdout",
     "output_type": "stream",
     "text": [
      "Guess after C: Irish\n",
      "Guess after h: Chinese\n",
      "Guess after e: Chinese\n",
      "Guess after v: Russian\n",
      "Guess after a: Russian\n",
      "Guess after l: French\n",
      "Guess after i: French\n",
      "Guess after e: French\n",
      "Guess after r: French\n"
     ]
    }
   ],
   "source": [
    "def predict_example(name: str):\n",
    "    rnn.eval()\n",
    "    with torch.no_grad():\n",
    "        for i, letter in enumerate(name):\n",
    "            if i == 0:\n",
    "                input = letterToTensor(letter)  # [1, 57]\n",
    "                hidden = rnn.initHidden()  # [1, 128]\n",
    "\n",
    "            output, hidden = rnn(letterToTensor(letter), hidden)  # output: [1, 18]  hidden: [1, 128]\n",
    "            print(f\"Guess after {letter}: {all_categories[output.argmax()]}\")\n",
    "\n",
    "predict_example('Chevalier')"
   ]
  },
  {
   "cell_type": "code",
   "execution_count": 40,
   "id": "66fce410-08be-423c-92be-687eb15b3168",
   "metadata": {
    "colab": {
     "base_uri": "https://localhost:8080/"
    },
    "id": "66fce410-08be-423c-92be-687eb15b3168",
    "outputId": "3d866a1a-dbf0-434a-dc4b-67caa2d579fc"
   },
   "outputs": [
    {
     "name": "stdout",
     "output_type": "stream",
     "text": [
      "Guess: German\n"
     ]
    }
   ],
   "source": [
    "# Compare with only predicting with the last letter\n",
    "with torch.no_grad():\n",
    "    hidden = rnn.initHidden()  # [1, 128]\n",
    "    output, _ = rnn(letterToTensor('r'), hidden)  # output: [1, 18]\n",
    "    print(f\"Guess: {all_categories[output.argmax()]}\")"
   ]
  },
  {
   "cell_type": "code",
   "execution_count": null,
   "id": "7045a92d-cee1-4a02-86fa-3cfe9cff5d44",
   "metadata": {
    "id": "7045a92d-cee1-4a02-86fa-3cfe9cff5d44"
   },
   "outputs": [],
   "source": []
  },
  {
   "cell_type": "code",
   "execution_count": null,
   "id": "8f921d44-d70d-4d9e-8bae-ea7fe8da0d4d",
   "metadata": {
    "id": "8f921d44-d70d-4d9e-8bae-ea7fe8da0d4d"
   },
   "outputs": [],
   "source": []
  },
  {
   "cell_type": "code",
   "execution_count": null,
   "id": "7529f3a8-a0bc-4299-8ea7-301b7a9e7bc2",
   "metadata": {
    "id": "7529f3a8-a0bc-4299-8ea7-301b7a9e7bc2"
   },
   "outputs": [],
   "source": []
  },
  {
   "cell_type": "code",
   "execution_count": null,
   "id": "89838849-d867-4dd0-917f-77a9fd335269",
   "metadata": {
    "id": "89838849-d867-4dd0-917f-77a9fd335269"
   },
   "outputs": [],
   "source": []
  },
  {
   "cell_type": "code",
   "execution_count": null,
   "id": "a70b2351-3ee1-4c44-b8a8-ca45678087d2",
   "metadata": {
    "id": "a70b2351-3ee1-4c44-b8a8-ca45678087d2"
   },
   "outputs": [],
   "source": []
  }
 ],
 "metadata": {
  "accelerator": "GPU",
  "colab": {
   "gpuType": "T4",
   "provenance": []
  },
  "kernelspec": {
   "display_name": "Python 3 (ipykernel)",
   "language": "python",
   "name": "python3"
  },
  "language_info": {
   "codemirror_mode": {
    "name": "ipython",
    "version": 3
   },
   "file_extension": ".py",
   "mimetype": "text/x-python",
   "name": "python",
   "nbconvert_exporter": "python",
   "pygments_lexer": "ipython3",
   "version": "3.11.4"
  }
 },
 "nbformat": 4,
 "nbformat_minor": 5
}
